{
 "cells": [
  {
   "cell_type": "markdown",
   "metadata": {},
   "source": [
    "# Финальный проект. Вариант 1"
   ]
  },
  {
   "cell_type": "code",
   "execution_count": 1,
   "metadata": {},
   "outputs": [],
   "source": [
    "import pandas as pd\n",
    "import seaborn as sns\n",
    "from scipy import stats\n",
    "import numpy as np\n",
    "from scipy.stats import bootstrap\n",
    "import matplotlib.pyplot as plt\n",
    "%matplotlib inline\n",
    "from scipy.stats import chi2_contingency"
   ]
  },
  {
   "cell_type": "markdown",
   "metadata": {},
   "source": [
    "## Задание 1"
   ]
  },
  {
   "cell_type": "markdown",
   "metadata": {},
   "source": [
    "Retention – один из самых важных показателей в компании. Ваша задача – написать функцию, которая будет считать retention игроков (по дням от даты регистрации игрока). "
   ]
  },
  {
   "cell_type": "code",
   "execution_count": 2,
   "metadata": {},
   "outputs": [
    {
     "data": {
      "text/html": [
       "<div>\n",
       "<style scoped>\n",
       "    .dataframe tbody tr th:only-of-type {\n",
       "        vertical-align: middle;\n",
       "    }\n",
       "\n",
       "    .dataframe tbody tr th {\n",
       "        vertical-align: top;\n",
       "    }\n",
       "\n",
       "    .dataframe thead th {\n",
       "        text-align: right;\n",
       "    }\n",
       "</style>\n",
       "<table border=\"1\" class=\"dataframe\">\n",
       "  <thead>\n",
       "    <tr style=\"text-align: right;\">\n",
       "      <th></th>\n",
       "      <th>reg_ts</th>\n",
       "      <th>uid</th>\n",
       "    </tr>\n",
       "  </thead>\n",
       "  <tbody>\n",
       "    <tr>\n",
       "      <th>0</th>\n",
       "      <td>911382223</td>\n",
       "      <td>1</td>\n",
       "    </tr>\n",
       "    <tr>\n",
       "      <th>1</th>\n",
       "      <td>932683089</td>\n",
       "      <td>2</td>\n",
       "    </tr>\n",
       "    <tr>\n",
       "      <th>2</th>\n",
       "      <td>947802447</td>\n",
       "      <td>3</td>\n",
       "    </tr>\n",
       "    <tr>\n",
       "      <th>3</th>\n",
       "      <td>959523541</td>\n",
       "      <td>4</td>\n",
       "    </tr>\n",
       "    <tr>\n",
       "      <th>4</th>\n",
       "      <td>969103313</td>\n",
       "      <td>5</td>\n",
       "    </tr>\n",
       "  </tbody>\n",
       "</table>\n",
       "</div>"
      ],
      "text/plain": [
       "      reg_ts  uid\n",
       "0  911382223    1\n",
       "1  932683089    2\n",
       "2  947802447    3\n",
       "3  959523541    4\n",
       "4  969103313    5"
      ]
     },
     "execution_count": 2,
     "metadata": {},
     "output_type": "execute_result"
    }
   ],
   "source": [
    "reg_data = pd.read_csv('~/shared/problem1-reg_data.csv', sep =';')\n",
    "reg_data.head()"
   ]
  },
  {
   "cell_type": "code",
   "execution_count": 3,
   "metadata": {},
   "outputs": [
    {
     "data": {
      "text/html": [
       "<div>\n",
       "<style scoped>\n",
       "    .dataframe tbody tr th:only-of-type {\n",
       "        vertical-align: middle;\n",
       "    }\n",
       "\n",
       "    .dataframe tbody tr th {\n",
       "        vertical-align: top;\n",
       "    }\n",
       "\n",
       "    .dataframe thead th {\n",
       "        text-align: right;\n",
       "    }\n",
       "</style>\n",
       "<table border=\"1\" class=\"dataframe\">\n",
       "  <thead>\n",
       "    <tr style=\"text-align: right;\">\n",
       "      <th></th>\n",
       "      <th>auth_ts</th>\n",
       "      <th>uid</th>\n",
       "    </tr>\n",
       "  </thead>\n",
       "  <tbody>\n",
       "    <tr>\n",
       "      <th>0</th>\n",
       "      <td>911382223</td>\n",
       "      <td>1</td>\n",
       "    </tr>\n",
       "    <tr>\n",
       "      <th>1</th>\n",
       "      <td>932683089</td>\n",
       "      <td>2</td>\n",
       "    </tr>\n",
       "    <tr>\n",
       "      <th>2</th>\n",
       "      <td>932921206</td>\n",
       "      <td>2</td>\n",
       "    </tr>\n",
       "    <tr>\n",
       "      <th>3</th>\n",
       "      <td>933393015</td>\n",
       "      <td>2</td>\n",
       "    </tr>\n",
       "    <tr>\n",
       "      <th>4</th>\n",
       "      <td>933875379</td>\n",
       "      <td>2</td>\n",
       "    </tr>\n",
       "  </tbody>\n",
       "</table>\n",
       "</div>"
      ],
      "text/plain": [
       "     auth_ts  uid\n",
       "0  911382223    1\n",
       "1  932683089    2\n",
       "2  932921206    2\n",
       "3  933393015    2\n",
       "4  933875379    2"
      ]
     },
     "execution_count": 3,
     "metadata": {},
     "output_type": "execute_result"
    }
   ],
   "source": [
    "auth_data = pd.read_csv('~/shared/problem1-auth_data.csv', sep =';')\n",
    "auth_data.head()"
   ]
  },
  {
   "cell_type": "markdown",
   "metadata": {},
   "source": [
    "Проведем разведовательный анализ данных перед выполнением основного задания."
   ]
  },
  {
   "cell_type": "code",
   "execution_count": 4,
   "metadata": {},
   "outputs": [
    {
     "data": {
      "text/plain": [
       "(1000000, 2)"
      ]
     },
     "execution_count": 4,
     "metadata": {},
     "output_type": "execute_result"
    }
   ],
   "source": [
    "reg_data.shape # Проверим размеры датафреймов"
   ]
  },
  {
   "cell_type": "code",
   "execution_count": 5,
   "metadata": {},
   "outputs": [
    {
     "data": {
      "text/plain": [
       "(9601013, 2)"
      ]
     },
     "execution_count": 5,
     "metadata": {},
     "output_type": "execute_result"
    }
   ],
   "source": [
    "auth_data.shape"
   ]
  },
  {
   "cell_type": "code",
   "execution_count": 6,
   "metadata": {},
   "outputs": [
    {
     "data": {
      "text/plain": [
       "1000000"
      ]
     },
     "execution_count": 6,
     "metadata": {},
     "output_type": "execute_result"
    }
   ],
   "source": [
    "reg_data.uid.nunique() # Обе таблицы имеют столбец с id игроков, проверим, сколько уникальных значений в каждой таблице"
   ]
  },
  {
   "cell_type": "code",
   "execution_count": 7,
   "metadata": {},
   "outputs": [
    {
     "data": {
      "text/plain": [
       "1000000"
      ]
     },
     "execution_count": 7,
     "metadata": {},
     "output_type": "execute_result"
    }
   ],
   "source": [
    "auth_data.uid.nunique()"
   ]
  },
  {
   "cell_type": "code",
   "execution_count": 8,
   "metadata": {},
   "outputs": [
    {
     "name": "stdout",
     "output_type": "stream",
     "text": [
      "<class 'pandas.core.frame.DataFrame'>\n",
      "RangeIndex: 1000000 entries, 0 to 999999\n",
      "Data columns (total 2 columns):\n",
      " #   Column  Non-Null Count    Dtype\n",
      "---  ------  --------------    -----\n",
      " 0   reg_ts  1000000 non-null  int64\n",
      " 1   uid     1000000 non-null  int64\n",
      "dtypes: int64(2)\n",
      "memory usage: 15.3 MB\n"
     ]
    }
   ],
   "source": [
    "reg_data.info() # Проверим, нет ли пропущенных значений в датафрейме"
   ]
  },
  {
   "cell_type": "code",
   "execution_count": 9,
   "metadata": {},
   "outputs": [
    {
     "data": {
      "text/plain": [
       "auth_ts    int64\n",
       "uid        int64\n",
       "dtype: object"
      ]
     },
     "execution_count": 9,
     "metadata": {},
     "output_type": "execute_result"
    }
   ],
   "source": [
    "auth_data.dtypes # Посмотрим типы данных"
   ]
  },
  {
   "cell_type": "code",
   "execution_count": 10,
   "metadata": {},
   "outputs": [
    {
     "data": {
      "text/plain": [
       "reg_ts    int64\n",
       "uid       int64\n",
       "dtype: object"
      ]
     },
     "execution_count": 10,
     "metadata": {},
     "output_type": "execute_result"
    }
   ],
   "source": [
    "reg_data.dtypes"
   ]
  },
  {
   "cell_type": "markdown",
   "metadata": {},
   "source": [
    "Так как столбцы \"reg_ts\" и \"auth_ts\" содержат информацию о времени, но в непривычном (менее наглядном) формате UNIX time, сконвертируем их в human-readable формат."
   ]
  },
  {
   "cell_type": "code",
   "execution_count": 11,
   "metadata": {},
   "outputs": [],
   "source": [
    "reg_data['reg_ts'] = pd.to_datetime(reg_data['reg_ts'], unit='s')"
   ]
  },
  {
   "cell_type": "code",
   "execution_count": 12,
   "metadata": {
    "scrolled": true
   },
   "outputs": [
    {
     "data": {
      "text/html": [
       "<div>\n",
       "<style scoped>\n",
       "    .dataframe tbody tr th:only-of-type {\n",
       "        vertical-align: middle;\n",
       "    }\n",
       "\n",
       "    .dataframe tbody tr th {\n",
       "        vertical-align: top;\n",
       "    }\n",
       "\n",
       "    .dataframe thead th {\n",
       "        text-align: right;\n",
       "    }\n",
       "</style>\n",
       "<table border=\"1\" class=\"dataframe\">\n",
       "  <thead>\n",
       "    <tr style=\"text-align: right;\">\n",
       "      <th></th>\n",
       "      <th>reg_ts</th>\n",
       "      <th>uid</th>\n",
       "    </tr>\n",
       "  </thead>\n",
       "  <tbody>\n",
       "    <tr>\n",
       "      <th>0</th>\n",
       "      <td>1998-11-18 09:43:43</td>\n",
       "      <td>1</td>\n",
       "    </tr>\n",
       "    <tr>\n",
       "      <th>1</th>\n",
       "      <td>1999-07-22 22:38:09</td>\n",
       "      <td>2</td>\n",
       "    </tr>\n",
       "    <tr>\n",
       "      <th>2</th>\n",
       "      <td>2000-01-13 22:27:27</td>\n",
       "      <td>3</td>\n",
       "    </tr>\n",
       "    <tr>\n",
       "      <th>3</th>\n",
       "      <td>2000-05-28 14:19:01</td>\n",
       "      <td>4</td>\n",
       "    </tr>\n",
       "    <tr>\n",
       "      <th>4</th>\n",
       "      <td>2000-09-16 11:21:53</td>\n",
       "      <td>5</td>\n",
       "    </tr>\n",
       "  </tbody>\n",
       "</table>\n",
       "</div>"
      ],
      "text/plain": [
       "               reg_ts  uid\n",
       "0 1998-11-18 09:43:43    1\n",
       "1 1999-07-22 22:38:09    2\n",
       "2 2000-01-13 22:27:27    3\n",
       "3 2000-05-28 14:19:01    4\n",
       "4 2000-09-16 11:21:53    5"
      ]
     },
     "execution_count": 12,
     "metadata": {},
     "output_type": "execute_result"
    }
   ],
   "source": [
    "reg_data.head()"
   ]
  },
  {
   "cell_type": "code",
   "execution_count": 13,
   "metadata": {
    "scrolled": true
   },
   "outputs": [
    {
     "data": {
      "text/plain": [
       "reg_ts    datetime64[ns]\n",
       "uid                int64\n",
       "dtype: object"
      ]
     },
     "execution_count": 13,
     "metadata": {},
     "output_type": "execute_result"
    }
   ],
   "source": [
    "reg_data.dtypes # Проверим, формат поменялся"
   ]
  },
  {
   "cell_type": "markdown",
   "metadata": {},
   "source": [
    "Согласно заданию, нам необходимо посчитать retention игроков (по дням от даты регистрации игрока). Часто retention rate считают для временных когорт, объединяют пользователей во временному признаку. В нашем случае мы так и поступим, объединим игроков по дате регистрации и посчитаем retention rate для каждой когорты. Когорты будем строить по месяцам, так как у нас большой временной диапозон:"
   ]
  },
  {
   "cell_type": "code",
   "execution_count": 14,
   "metadata": {},
   "outputs": [
    {
     "data": {
      "text/plain": [
       "Timestamp('1998-11-18 09:43:43')"
      ]
     },
     "execution_count": 14,
     "metadata": {},
     "output_type": "execute_result"
    }
   ],
   "source": [
    "reg_data.reg_ts.min()"
   ]
  },
  {
   "cell_type": "code",
   "execution_count": 15,
   "metadata": {},
   "outputs": [
    {
     "data": {
      "text/plain": [
       "Timestamp('2020-09-23 15:17:24')"
      ]
     },
     "execution_count": 15,
     "metadata": {},
     "output_type": "execute_result"
    }
   ],
   "source": [
    "reg_data.reg_ts.max()"
   ]
  },
  {
   "cell_type": "code",
   "execution_count": 16,
   "metadata": {},
   "outputs": [],
   "source": [
    "reg_data['reg_ts'] = reg_data['reg_ts'].astype('datetime64[M]') # Переведем даты в формат месяца - первое число месяца"
   ]
  },
  {
   "cell_type": "code",
   "execution_count": 17,
   "metadata": {},
   "outputs": [
    {
     "data": {
      "text/html": [
       "<div>\n",
       "<style scoped>\n",
       "    .dataframe tbody tr th:only-of-type {\n",
       "        vertical-align: middle;\n",
       "    }\n",
       "\n",
       "    .dataframe tbody tr th {\n",
       "        vertical-align: top;\n",
       "    }\n",
       "\n",
       "    .dataframe thead th {\n",
       "        text-align: right;\n",
       "    }\n",
       "</style>\n",
       "<table border=\"1\" class=\"dataframe\">\n",
       "  <thead>\n",
       "    <tr style=\"text-align: right;\">\n",
       "      <th></th>\n",
       "      <th>reg_ts</th>\n",
       "      <th>uid</th>\n",
       "    </tr>\n",
       "  </thead>\n",
       "  <tbody>\n",
       "    <tr>\n",
       "      <th>0</th>\n",
       "      <td>1998-11-01</td>\n",
       "      <td>1</td>\n",
       "    </tr>\n",
       "    <tr>\n",
       "      <th>1</th>\n",
       "      <td>1999-07-01</td>\n",
       "      <td>2</td>\n",
       "    </tr>\n",
       "    <tr>\n",
       "      <th>2</th>\n",
       "      <td>2000-01-01</td>\n",
       "      <td>3</td>\n",
       "    </tr>\n",
       "    <tr>\n",
       "      <th>3</th>\n",
       "      <td>2000-05-01</td>\n",
       "      <td>4</td>\n",
       "    </tr>\n",
       "    <tr>\n",
       "      <th>4</th>\n",
       "      <td>2000-09-01</td>\n",
       "      <td>5</td>\n",
       "    </tr>\n",
       "  </tbody>\n",
       "</table>\n",
       "</div>"
      ],
      "text/plain": [
       "      reg_ts  uid\n",
       "0 1998-11-01    1\n",
       "1 1999-07-01    2\n",
       "2 2000-01-01    3\n",
       "3 2000-05-01    4\n",
       "4 2000-09-01    5"
      ]
     },
     "execution_count": 17,
     "metadata": {},
     "output_type": "execute_result"
    }
   ],
   "source": [
    "reg_data.head()"
   ]
  },
  {
   "cell_type": "code",
   "execution_count": 18,
   "metadata": {},
   "outputs": [],
   "source": [
    "auth_data['auth_ts'] = pd.to_datetime(auth_data['auth_ts'], unit='s') # Произведем такие же операции со столбцом второго датафрейма"
   ]
  },
  {
   "cell_type": "code",
   "execution_count": 19,
   "metadata": {},
   "outputs": [],
   "source": [
    "auth_data['auth_ts'] = auth_data['auth_ts'].astype('datetime64[M]')"
   ]
  },
  {
   "cell_type": "code",
   "execution_count": 20,
   "metadata": {},
   "outputs": [
    {
     "data": {
      "text/html": [
       "<div>\n",
       "<style scoped>\n",
       "    .dataframe tbody tr th:only-of-type {\n",
       "        vertical-align: middle;\n",
       "    }\n",
       "\n",
       "    .dataframe tbody tr th {\n",
       "        vertical-align: top;\n",
       "    }\n",
       "\n",
       "    .dataframe thead th {\n",
       "        text-align: right;\n",
       "    }\n",
       "</style>\n",
       "<table border=\"1\" class=\"dataframe\">\n",
       "  <thead>\n",
       "    <tr style=\"text-align: right;\">\n",
       "      <th></th>\n",
       "      <th>auth_ts</th>\n",
       "      <th>uid</th>\n",
       "    </tr>\n",
       "  </thead>\n",
       "  <tbody>\n",
       "    <tr>\n",
       "      <th>0</th>\n",
       "      <td>1998-11-01</td>\n",
       "      <td>1</td>\n",
       "    </tr>\n",
       "    <tr>\n",
       "      <th>1</th>\n",
       "      <td>1999-07-01</td>\n",
       "      <td>2</td>\n",
       "    </tr>\n",
       "    <tr>\n",
       "      <th>2</th>\n",
       "      <td>1999-07-01</td>\n",
       "      <td>2</td>\n",
       "    </tr>\n",
       "    <tr>\n",
       "      <th>3</th>\n",
       "      <td>1999-07-01</td>\n",
       "      <td>2</td>\n",
       "    </tr>\n",
       "    <tr>\n",
       "      <th>4</th>\n",
       "      <td>1999-08-01</td>\n",
       "      <td>2</td>\n",
       "    </tr>\n",
       "  </tbody>\n",
       "</table>\n",
       "</div>"
      ],
      "text/plain": [
       "     auth_ts  uid\n",
       "0 1998-11-01    1\n",
       "1 1999-07-01    2\n",
       "2 1999-07-01    2\n",
       "3 1999-07-01    2\n",
       "4 1999-08-01    2"
      ]
     },
     "execution_count": 20,
     "metadata": {},
     "output_type": "execute_result"
    }
   ],
   "source": [
    "auth_data.head()"
   ]
  },
  {
   "cell_type": "code",
   "execution_count": 21,
   "metadata": {},
   "outputs": [],
   "source": [
    "all_data_users = reg_data.merge(auth_data, on = 'uid') # Объединим два датафрейма для дальнейшего анализа"
   ]
  },
  {
   "cell_type": "code",
   "execution_count": 22,
   "metadata": {},
   "outputs": [
    {
     "data": {
      "text/plain": [
       "(9601013, 3)"
      ]
     },
     "execution_count": 22,
     "metadata": {},
     "output_type": "execute_result"
    }
   ],
   "source": [
    "all_data_users.shape # Проверяем, не потеряли ли мы строки"
   ]
  },
  {
   "cell_type": "markdown",
   "metadata": {},
   "source": [
    "Сейчас сгруппируем данные по дате регистрации и дате авторизации, и посчитаем уникальные значения пользователей на конец периода для расчета показателя retention."
   ]
  },
  {
   "cell_type": "code",
   "execution_count": 23,
   "metadata": {},
   "outputs": [],
   "source": [
    "all_data_users = all_data_users.groupby(['reg_ts', 'auth_ts'], as_index = False).uid.nunique().rename(columns = {'uid':'cohort_users'})"
   ]
  },
  {
   "cell_type": "code",
   "execution_count": 24,
   "metadata": {},
   "outputs": [
    {
     "data": {
      "text/html": [
       "<div>\n",
       "<style scoped>\n",
       "    .dataframe tbody tr th:only-of-type {\n",
       "        vertical-align: middle;\n",
       "    }\n",
       "\n",
       "    .dataframe tbody tr th {\n",
       "        vertical-align: top;\n",
       "    }\n",
       "\n",
       "    .dataframe thead th {\n",
       "        text-align: right;\n",
       "    }\n",
       "</style>\n",
       "<table border=\"1\" class=\"dataframe\">\n",
       "  <thead>\n",
       "    <tr style=\"text-align: right;\">\n",
       "      <th></th>\n",
       "      <th>reg_ts</th>\n",
       "      <th>auth_ts</th>\n",
       "      <th>cohort_users</th>\n",
       "    </tr>\n",
       "  </thead>\n",
       "  <tbody>\n",
       "    <tr>\n",
       "      <th>0</th>\n",
       "      <td>1998-11-01</td>\n",
       "      <td>1998-11-01</td>\n",
       "      <td>1</td>\n",
       "    </tr>\n",
       "    <tr>\n",
       "      <th>1</th>\n",
       "      <td>1999-07-01</td>\n",
       "      <td>1999-07-01</td>\n",
       "      <td>1</td>\n",
       "    </tr>\n",
       "    <tr>\n",
       "      <th>2</th>\n",
       "      <td>1999-07-01</td>\n",
       "      <td>1999-08-01</td>\n",
       "      <td>1</td>\n",
       "    </tr>\n",
       "    <tr>\n",
       "      <th>3</th>\n",
       "      <td>1999-07-01</td>\n",
       "      <td>1999-09-01</td>\n",
       "      <td>1</td>\n",
       "    </tr>\n",
       "    <tr>\n",
       "      <th>4</th>\n",
       "      <td>1999-07-01</td>\n",
       "      <td>1999-10-01</td>\n",
       "      <td>1</td>\n",
       "    </tr>\n",
       "    <tr>\n",
       "      <th>...</th>\n",
       "      <td>...</td>\n",
       "      <td>...</td>\n",
       "      <td>...</td>\n",
       "    </tr>\n",
       "    <tr>\n",
       "      <th>13755</th>\n",
       "      <td>2020-07-01</td>\n",
       "      <td>2020-08-01</td>\n",
       "      <td>7958</td>\n",
       "    </tr>\n",
       "    <tr>\n",
       "      <th>13756</th>\n",
       "      <td>2020-07-01</td>\n",
       "      <td>2020-09-01</td>\n",
       "      <td>2751</td>\n",
       "    </tr>\n",
       "    <tr>\n",
       "      <th>13757</th>\n",
       "      <td>2020-08-01</td>\n",
       "      <td>2020-08-01</td>\n",
       "      <td>47882</td>\n",
       "    </tr>\n",
       "    <tr>\n",
       "      <th>13758</th>\n",
       "      <td>2020-08-01</td>\n",
       "      <td>2020-09-01</td>\n",
       "      <td>8389</td>\n",
       "    </tr>\n",
       "    <tr>\n",
       "      <th>13759</th>\n",
       "      <td>2020-09-01</td>\n",
       "      <td>2020-09-01</td>\n",
       "      <td>36540</td>\n",
       "    </tr>\n",
       "  </tbody>\n",
       "</table>\n",
       "<p>13760 rows × 3 columns</p>\n",
       "</div>"
      ],
      "text/plain": [
       "          reg_ts    auth_ts  cohort_users\n",
       "0     1998-11-01 1998-11-01             1\n",
       "1     1999-07-01 1999-07-01             1\n",
       "2     1999-07-01 1999-08-01             1\n",
       "3     1999-07-01 1999-09-01             1\n",
       "4     1999-07-01 1999-10-01             1\n",
       "...          ...        ...           ...\n",
       "13755 2020-07-01 2020-08-01          7958\n",
       "13756 2020-07-01 2020-09-01          2751\n",
       "13757 2020-08-01 2020-08-01         47882\n",
       "13758 2020-08-01 2020-09-01          8389\n",
       "13759 2020-09-01 2020-09-01         36540\n",
       "\n",
       "[13760 rows x 3 columns]"
      ]
     },
     "execution_count": 24,
     "metadata": {},
     "output_type": "execute_result"
    }
   ],
   "source": [
    "all_data_users"
   ]
  },
  {
   "cell_type": "markdown",
   "metadata": {},
   "source": [
    "Посчитаем число ункальных пользователей для наших когорт (месяцев)."
   ]
  },
  {
   "cell_type": "code",
   "execution_count": 25,
   "metadata": {},
   "outputs": [],
   "source": [
    "cohorts = reg_data.groupby('reg_ts', as_index = False).uid.nunique().rename(columns = {'uid':'initial_users'})"
   ]
  },
  {
   "cell_type": "code",
   "execution_count": 26,
   "metadata": {},
   "outputs": [
    {
     "data": {
      "text/plain": [
       "(235, 2)"
      ]
     },
     "execution_count": 26,
     "metadata": {},
     "output_type": "execute_result"
    }
   ],
   "source": [
    "cohorts.shape"
   ]
  },
  {
   "cell_type": "code",
   "execution_count": 27,
   "metadata": {},
   "outputs": [
    {
     "data": {
      "text/plain": [
       "1000000"
      ]
     },
     "execution_count": 27,
     "metadata": {},
     "output_type": "execute_result"
    }
   ],
   "source": [
    "cohorts.initial_users.sum() # Проверка пользователей, никого ли мы не потеряли"
   ]
  },
  {
   "cell_type": "code",
   "execution_count": 28,
   "metadata": {},
   "outputs": [],
   "source": [
    "all_data_users = all_data_users.merge(cohorts, on = 'reg_ts') # Добавим столбец с первоначальним числом пользователей в общий датафрейм"
   ]
  },
  {
   "cell_type": "code",
   "execution_count": 29,
   "metadata": {},
   "outputs": [
    {
     "data": {
      "text/html": [
       "<div>\n",
       "<style scoped>\n",
       "    .dataframe tbody tr th:only-of-type {\n",
       "        vertical-align: middle;\n",
       "    }\n",
       "\n",
       "    .dataframe tbody tr th {\n",
       "        vertical-align: top;\n",
       "    }\n",
       "\n",
       "    .dataframe thead th {\n",
       "        text-align: right;\n",
       "    }\n",
       "</style>\n",
       "<table border=\"1\" class=\"dataframe\">\n",
       "  <thead>\n",
       "    <tr style=\"text-align: right;\">\n",
       "      <th></th>\n",
       "      <th>reg_ts</th>\n",
       "      <th>auth_ts</th>\n",
       "      <th>cohort_users</th>\n",
       "      <th>initial_users</th>\n",
       "    </tr>\n",
       "  </thead>\n",
       "  <tbody>\n",
       "    <tr>\n",
       "      <th>0</th>\n",
       "      <td>1998-11-01</td>\n",
       "      <td>1998-11-01</td>\n",
       "      <td>1</td>\n",
       "      <td>1</td>\n",
       "    </tr>\n",
       "    <tr>\n",
       "      <th>1</th>\n",
       "      <td>1999-07-01</td>\n",
       "      <td>1999-07-01</td>\n",
       "      <td>1</td>\n",
       "      <td>1</td>\n",
       "    </tr>\n",
       "    <tr>\n",
       "      <th>2</th>\n",
       "      <td>1999-07-01</td>\n",
       "      <td>1999-08-01</td>\n",
       "      <td>1</td>\n",
       "      <td>1</td>\n",
       "    </tr>\n",
       "    <tr>\n",
       "      <th>3</th>\n",
       "      <td>1999-07-01</td>\n",
       "      <td>1999-09-01</td>\n",
       "      <td>1</td>\n",
       "      <td>1</td>\n",
       "    </tr>\n",
       "    <tr>\n",
       "      <th>4</th>\n",
       "      <td>1999-07-01</td>\n",
       "      <td>1999-10-01</td>\n",
       "      <td>1</td>\n",
       "      <td>1</td>\n",
       "    </tr>\n",
       "    <tr>\n",
       "      <th>...</th>\n",
       "      <td>...</td>\n",
       "      <td>...</td>\n",
       "      <td>...</td>\n",
       "      <td>...</td>\n",
       "    </tr>\n",
       "    <tr>\n",
       "      <th>13755</th>\n",
       "      <td>2020-07-01</td>\n",
       "      <td>2020-08-01</td>\n",
       "      <td>7958</td>\n",
       "      <td>45502</td>\n",
       "    </tr>\n",
       "    <tr>\n",
       "      <th>13756</th>\n",
       "      <td>2020-07-01</td>\n",
       "      <td>2020-09-01</td>\n",
       "      <td>2751</td>\n",
       "      <td>45502</td>\n",
       "    </tr>\n",
       "    <tr>\n",
       "      <th>13757</th>\n",
       "      <td>2020-08-01</td>\n",
       "      <td>2020-08-01</td>\n",
       "      <td>47882</td>\n",
       "      <td>47882</td>\n",
       "    </tr>\n",
       "    <tr>\n",
       "      <th>13758</th>\n",
       "      <td>2020-08-01</td>\n",
       "      <td>2020-09-01</td>\n",
       "      <td>8389</td>\n",
       "      <td>47882</td>\n",
       "    </tr>\n",
       "    <tr>\n",
       "      <th>13759</th>\n",
       "      <td>2020-09-01</td>\n",
       "      <td>2020-09-01</td>\n",
       "      <td>36540</td>\n",
       "      <td>36540</td>\n",
       "    </tr>\n",
       "  </tbody>\n",
       "</table>\n",
       "<p>13760 rows × 4 columns</p>\n",
       "</div>"
      ],
      "text/plain": [
       "          reg_ts    auth_ts  cohort_users  initial_users\n",
       "0     1998-11-01 1998-11-01             1              1\n",
       "1     1999-07-01 1999-07-01             1              1\n",
       "2     1999-07-01 1999-08-01             1              1\n",
       "3     1999-07-01 1999-09-01             1              1\n",
       "4     1999-07-01 1999-10-01             1              1\n",
       "...          ...        ...           ...            ...\n",
       "13755 2020-07-01 2020-08-01          7958          45502\n",
       "13756 2020-07-01 2020-09-01          2751          45502\n",
       "13757 2020-08-01 2020-08-01         47882          47882\n",
       "13758 2020-08-01 2020-09-01          8389          47882\n",
       "13759 2020-09-01 2020-09-01         36540          36540\n",
       "\n",
       "[13760 rows x 4 columns]"
      ]
     },
     "execution_count": 29,
     "metadata": {},
     "output_type": "execute_result"
    }
   ],
   "source": [
    "all_data_users"
   ]
  },
  {
   "cell_type": "code",
   "execution_count": 30,
   "metadata": {},
   "outputs": [],
   "source": [
    "all_data_users['cohort_diff'] = all_data_users.auth_ts - all_data_users.reg_ts # Посчитаем разницу в днях между датой регистрации и авторизацией"
   ]
  },
  {
   "cell_type": "code",
   "execution_count": 31,
   "metadata": {},
   "outputs": [
    {
     "data": {
      "text/html": [
       "<div>\n",
       "<style scoped>\n",
       "    .dataframe tbody tr th:only-of-type {\n",
       "        vertical-align: middle;\n",
       "    }\n",
       "\n",
       "    .dataframe tbody tr th {\n",
       "        vertical-align: top;\n",
       "    }\n",
       "\n",
       "    .dataframe thead th {\n",
       "        text-align: right;\n",
       "    }\n",
       "</style>\n",
       "<table border=\"1\" class=\"dataframe\">\n",
       "  <thead>\n",
       "    <tr style=\"text-align: right;\">\n",
       "      <th></th>\n",
       "      <th>reg_ts</th>\n",
       "      <th>auth_ts</th>\n",
       "      <th>cohort_users</th>\n",
       "      <th>initial_users</th>\n",
       "      <th>cohort_diff</th>\n",
       "    </tr>\n",
       "  </thead>\n",
       "  <tbody>\n",
       "    <tr>\n",
       "      <th>0</th>\n",
       "      <td>1998-11-01</td>\n",
       "      <td>1998-11-01</td>\n",
       "      <td>1</td>\n",
       "      <td>1</td>\n",
       "      <td>0 days</td>\n",
       "    </tr>\n",
       "    <tr>\n",
       "      <th>1</th>\n",
       "      <td>1999-07-01</td>\n",
       "      <td>1999-07-01</td>\n",
       "      <td>1</td>\n",
       "      <td>1</td>\n",
       "      <td>0 days</td>\n",
       "    </tr>\n",
       "    <tr>\n",
       "      <th>2</th>\n",
       "      <td>1999-07-01</td>\n",
       "      <td>1999-08-01</td>\n",
       "      <td>1</td>\n",
       "      <td>1</td>\n",
       "      <td>31 days</td>\n",
       "    </tr>\n",
       "    <tr>\n",
       "      <th>3</th>\n",
       "      <td>1999-07-01</td>\n",
       "      <td>1999-09-01</td>\n",
       "      <td>1</td>\n",
       "      <td>1</td>\n",
       "      <td>62 days</td>\n",
       "    </tr>\n",
       "    <tr>\n",
       "      <th>4</th>\n",
       "      <td>1999-07-01</td>\n",
       "      <td>1999-10-01</td>\n",
       "      <td>1</td>\n",
       "      <td>1</td>\n",
       "      <td>92 days</td>\n",
       "    </tr>\n",
       "  </tbody>\n",
       "</table>\n",
       "</div>"
      ],
      "text/plain": [
       "      reg_ts    auth_ts  cohort_users  initial_users cohort_diff\n",
       "0 1998-11-01 1998-11-01             1              1      0 days\n",
       "1 1999-07-01 1999-07-01             1              1      0 days\n",
       "2 1999-07-01 1999-08-01             1              1     31 days\n",
       "3 1999-07-01 1999-09-01             1              1     62 days\n",
       "4 1999-07-01 1999-10-01             1              1     92 days"
      ]
     },
     "execution_count": 31,
     "metadata": {},
     "output_type": "execute_result"
    }
   ],
   "source": [
    "all_data_users.head()"
   ]
  },
  {
   "cell_type": "code",
   "execution_count": 32,
   "metadata": {},
   "outputs": [],
   "source": [
    "all_data_users['retention'] = all_data_users.cohort_users / all_data_users.initial_users # Посчитаем Retention Rate"
   ]
  },
  {
   "cell_type": "code",
   "execution_count": 33,
   "metadata": {},
   "outputs": [],
   "source": [
    "all_data_users['retention_month'] = (all_data_users['cohort_diff']/np.timedelta64(1, 'M') + 1).round()"
   ]
  },
  {
   "cell_type": "code",
   "execution_count": 35,
   "metadata": {},
   "outputs": [
    {
     "data": {
      "text/html": [
       "<div>\n",
       "<style scoped>\n",
       "    .dataframe tbody tr th:only-of-type {\n",
       "        vertical-align: middle;\n",
       "    }\n",
       "\n",
       "    .dataframe tbody tr th {\n",
       "        vertical-align: top;\n",
       "    }\n",
       "\n",
       "    .dataframe thead th {\n",
       "        text-align: right;\n",
       "    }\n",
       "</style>\n",
       "<table border=\"1\" class=\"dataframe\">\n",
       "  <thead>\n",
       "    <tr style=\"text-align: right;\">\n",
       "      <th></th>\n",
       "      <th>reg_ts</th>\n",
       "      <th>auth_ts</th>\n",
       "      <th>cohort_users</th>\n",
       "      <th>initial_users</th>\n",
       "      <th>cohort_diff</th>\n",
       "      <th>retention</th>\n",
       "      <th>retention_month</th>\n",
       "    </tr>\n",
       "  </thead>\n",
       "  <tbody>\n",
       "    <tr>\n",
       "      <th>0</th>\n",
       "      <td>1998-11-01</td>\n",
       "      <td>1998-11-01</td>\n",
       "      <td>1</td>\n",
       "      <td>1</td>\n",
       "      <td>0 days</td>\n",
       "      <td>1.0</td>\n",
       "      <td>1.0</td>\n",
       "    </tr>\n",
       "    <tr>\n",
       "      <th>1</th>\n",
       "      <td>1999-07-01</td>\n",
       "      <td>1999-07-01</td>\n",
       "      <td>1</td>\n",
       "      <td>1</td>\n",
       "      <td>0 days</td>\n",
       "      <td>1.0</td>\n",
       "      <td>1.0</td>\n",
       "    </tr>\n",
       "    <tr>\n",
       "      <th>2</th>\n",
       "      <td>1999-07-01</td>\n",
       "      <td>1999-08-01</td>\n",
       "      <td>1</td>\n",
       "      <td>1</td>\n",
       "      <td>31 days</td>\n",
       "      <td>1.0</td>\n",
       "      <td>2.0</td>\n",
       "    </tr>\n",
       "    <tr>\n",
       "      <th>3</th>\n",
       "      <td>1999-07-01</td>\n",
       "      <td>1999-09-01</td>\n",
       "      <td>1</td>\n",
       "      <td>1</td>\n",
       "      <td>62 days</td>\n",
       "      <td>1.0</td>\n",
       "      <td>3.0</td>\n",
       "    </tr>\n",
       "    <tr>\n",
       "      <th>4</th>\n",
       "      <td>1999-07-01</td>\n",
       "      <td>1999-10-01</td>\n",
       "      <td>1</td>\n",
       "      <td>1</td>\n",
       "      <td>92 days</td>\n",
       "      <td>1.0</td>\n",
       "      <td>4.0</td>\n",
       "    </tr>\n",
       "  </tbody>\n",
       "</table>\n",
       "</div>"
      ],
      "text/plain": [
       "      reg_ts    auth_ts  cohort_users  initial_users cohort_diff  retention  \\\n",
       "0 1998-11-01 1998-11-01             1              1      0 days        1.0   \n",
       "1 1999-07-01 1999-07-01             1              1      0 days        1.0   \n",
       "2 1999-07-01 1999-08-01             1              1     31 days        1.0   \n",
       "3 1999-07-01 1999-09-01             1              1     62 days        1.0   \n",
       "4 1999-07-01 1999-10-01             1              1     92 days        1.0   \n",
       "\n",
       "   retention_month  \n",
       "0              1.0  \n",
       "1              1.0  \n",
       "2              2.0  \n",
       "3              3.0  \n",
       "4              4.0  "
      ]
     },
     "execution_count": 35,
     "metadata": {},
     "output_type": "execute_result"
    }
   ],
   "source": [
    "all_data_users.head()"
   ]
  },
  {
   "cell_type": "markdown",
   "metadata": {},
   "source": [
    "Данные мы подготовили, далее можем рассматривать те промежутки времени, которые нас интересуют. Создадим переменную period, в которой можно задавать период дат регистрации (reg_ts) и количество месяцев (retention_month) с месяца регистрации."
   ]
  },
  {
   "cell_type": "code",
   "execution_count": 36,
   "metadata": {},
   "outputs": [],
   "source": [
    "#period = \"reg_ts >= '1998-11-01' and reg_ts <= '2020-09-01'\" # Максимальный период данных"
   ]
  },
  {
   "cell_type": "code",
   "execution_count": 37,
   "metadata": {},
   "outputs": [],
   "source": [
    "period = \"reg_ts >= '2019-01-01' and reg_ts <= '2019-12-01' and retention_month >= 1 and retention_month <= 12\" # Для примера"
   ]
  },
  {
   "cell_type": "code",
   "execution_count": 38,
   "metadata": {},
   "outputs": [
    {
     "data": {
      "text/html": [
       "<div>\n",
       "<style scoped>\n",
       "    .dataframe tbody tr th:only-of-type {\n",
       "        vertical-align: middle;\n",
       "    }\n",
       "\n",
       "    .dataframe tbody tr th {\n",
       "        vertical-align: top;\n",
       "    }\n",
       "\n",
       "    .dataframe thead th {\n",
       "        text-align: right;\n",
       "    }\n",
       "</style>\n",
       "<table border=\"1\" class=\"dataframe\">\n",
       "  <thead>\n",
       "    <tr style=\"text-align: right;\">\n",
       "      <th></th>\n",
       "      <th>reg_ts</th>\n",
       "      <th>auth_ts</th>\n",
       "      <th>cohort_users</th>\n",
       "      <th>initial_users</th>\n",
       "      <th>cohort_diff</th>\n",
       "      <th>retention</th>\n",
       "      <th>retention_month</th>\n",
       "    </tr>\n",
       "  </thead>\n",
       "  <tbody>\n",
       "    <tr>\n",
       "      <th>13529</th>\n",
       "      <td>2019-01-01</td>\n",
       "      <td>2019-01-01</td>\n",
       "      <td>18510</td>\n",
       "      <td>18510</td>\n",
       "      <td>0 days</td>\n",
       "      <td>1.000000</td>\n",
       "      <td>1.0</td>\n",
       "    </tr>\n",
       "    <tr>\n",
       "      <th>13530</th>\n",
       "      <td>2019-01-01</td>\n",
       "      <td>2019-02-01</td>\n",
       "      <td>3284</td>\n",
       "      <td>18510</td>\n",
       "      <td>31 days</td>\n",
       "      <td>0.177418</td>\n",
       "      <td>2.0</td>\n",
       "    </tr>\n",
       "    <tr>\n",
       "      <th>13531</th>\n",
       "      <td>2019-01-01</td>\n",
       "      <td>2019-03-01</td>\n",
       "      <td>1240</td>\n",
       "      <td>18510</td>\n",
       "      <td>59 days</td>\n",
       "      <td>0.066991</td>\n",
       "      <td>3.0</td>\n",
       "    </tr>\n",
       "    <tr>\n",
       "      <th>13532</th>\n",
       "      <td>2019-01-01</td>\n",
       "      <td>2019-04-01</td>\n",
       "      <td>945</td>\n",
       "      <td>18510</td>\n",
       "      <td>90 days</td>\n",
       "      <td>0.051053</td>\n",
       "      <td>4.0</td>\n",
       "    </tr>\n",
       "    <tr>\n",
       "      <th>13533</th>\n",
       "      <td>2019-01-01</td>\n",
       "      <td>2019-05-01</td>\n",
       "      <td>945</td>\n",
       "      <td>18510</td>\n",
       "      <td>120 days</td>\n",
       "      <td>0.051053</td>\n",
       "      <td>5.0</td>\n",
       "    </tr>\n",
       "    <tr>\n",
       "      <th>13534</th>\n",
       "      <td>2019-01-01</td>\n",
       "      <td>2019-06-01</td>\n",
       "      <td>945</td>\n",
       "      <td>18510</td>\n",
       "      <td>151 days</td>\n",
       "      <td>0.051053</td>\n",
       "      <td>6.0</td>\n",
       "    </tr>\n",
       "    <tr>\n",
       "      <th>13535</th>\n",
       "      <td>2019-01-01</td>\n",
       "      <td>2019-07-01</td>\n",
       "      <td>945</td>\n",
       "      <td>18510</td>\n",
       "      <td>181 days</td>\n",
       "      <td>0.051053</td>\n",
       "      <td>7.0</td>\n",
       "    </tr>\n",
       "    <tr>\n",
       "      <th>13536</th>\n",
       "      <td>2019-01-01</td>\n",
       "      <td>2019-08-01</td>\n",
       "      <td>945</td>\n",
       "      <td>18510</td>\n",
       "      <td>212 days</td>\n",
       "      <td>0.051053</td>\n",
       "      <td>8.0</td>\n",
       "    </tr>\n",
       "    <tr>\n",
       "      <th>13537</th>\n",
       "      <td>2019-01-01</td>\n",
       "      <td>2019-09-01</td>\n",
       "      <td>945</td>\n",
       "      <td>18510</td>\n",
       "      <td>243 days</td>\n",
       "      <td>0.051053</td>\n",
       "      <td>9.0</td>\n",
       "    </tr>\n",
       "    <tr>\n",
       "      <th>13538</th>\n",
       "      <td>2019-01-01</td>\n",
       "      <td>2019-10-01</td>\n",
       "      <td>945</td>\n",
       "      <td>18510</td>\n",
       "      <td>273 days</td>\n",
       "      <td>0.051053</td>\n",
       "      <td>10.0</td>\n",
       "    </tr>\n",
       "  </tbody>\n",
       "</table>\n",
       "</div>"
      ],
      "text/plain": [
       "          reg_ts    auth_ts  cohort_users  initial_users cohort_diff  \\\n",
       "13529 2019-01-01 2019-01-01         18510          18510      0 days   \n",
       "13530 2019-01-01 2019-02-01          3284          18510     31 days   \n",
       "13531 2019-01-01 2019-03-01          1240          18510     59 days   \n",
       "13532 2019-01-01 2019-04-01           945          18510     90 days   \n",
       "13533 2019-01-01 2019-05-01           945          18510    120 days   \n",
       "13534 2019-01-01 2019-06-01           945          18510    151 days   \n",
       "13535 2019-01-01 2019-07-01           945          18510    181 days   \n",
       "13536 2019-01-01 2019-08-01           945          18510    212 days   \n",
       "13537 2019-01-01 2019-09-01           945          18510    243 days   \n",
       "13538 2019-01-01 2019-10-01           945          18510    273 days   \n",
       "\n",
       "       retention  retention_month  \n",
       "13529   1.000000              1.0  \n",
       "13530   0.177418              2.0  \n",
       "13531   0.066991              3.0  \n",
       "13532   0.051053              4.0  \n",
       "13533   0.051053              5.0  \n",
       "13534   0.051053              6.0  \n",
       "13535   0.051053              7.0  \n",
       "13536   0.051053              8.0  \n",
       "13537   0.051053              9.0  \n",
       "13538   0.051053             10.0  "
      ]
     },
     "execution_count": 38,
     "metadata": {},
     "output_type": "execute_result"
    }
   ],
   "source": [
    "all_data_users.query(period).head(10) # Проверим, какие данные выводятся в таблицу"
   ]
  },
  {
   "cell_type": "code",
   "execution_count": 39,
   "metadata": {},
   "outputs": [],
   "source": [
    "retention_pivot = all_data_users.query(period).pivot_table(index='reg_ts',\n",
    "                                      columns='retention_month',\n",
    "                                      values='retention',\n",
    "                                      aggfunc='sum')"
   ]
  },
  {
   "cell_type": "code",
   "execution_count": 40,
   "metadata": {},
   "outputs": [
    {
     "data": {
      "text/html": [
       "<div>\n",
       "<style scoped>\n",
       "    .dataframe tbody tr th:only-of-type {\n",
       "        vertical-align: middle;\n",
       "    }\n",
       "\n",
       "    .dataframe tbody tr th {\n",
       "        vertical-align: top;\n",
       "    }\n",
       "\n",
       "    .dataframe thead th {\n",
       "        text-align: right;\n",
       "    }\n",
       "</style>\n",
       "<table border=\"1\" class=\"dataframe\">\n",
       "  <thead>\n",
       "    <tr style=\"text-align: right;\">\n",
       "      <th>retention_month</th>\n",
       "      <th>1.0</th>\n",
       "      <th>2.0</th>\n",
       "      <th>3.0</th>\n",
       "      <th>4.0</th>\n",
       "      <th>5.0</th>\n",
       "      <th>6.0</th>\n",
       "      <th>7.0</th>\n",
       "      <th>8.0</th>\n",
       "      <th>9.0</th>\n",
       "      <th>10.0</th>\n",
       "      <th>11.0</th>\n",
       "      <th>12.0</th>\n",
       "    </tr>\n",
       "    <tr>\n",
       "      <th>reg_ts</th>\n",
       "      <th></th>\n",
       "      <th></th>\n",
       "      <th></th>\n",
       "      <th></th>\n",
       "      <th></th>\n",
       "      <th></th>\n",
       "      <th></th>\n",
       "      <th></th>\n",
       "      <th></th>\n",
       "      <th></th>\n",
       "      <th></th>\n",
       "      <th></th>\n",
       "    </tr>\n",
       "  </thead>\n",
       "  <tbody>\n",
       "    <tr>\n",
       "      <th>2019-01-01</th>\n",
       "      <td>1.0</td>\n",
       "      <td>0.177418</td>\n",
       "      <td>0.066991</td>\n",
       "      <td>0.051053</td>\n",
       "      <td>0.051053</td>\n",
       "      <td>0.051053</td>\n",
       "      <td>0.051053</td>\n",
       "      <td>0.051053</td>\n",
       "      <td>0.051053</td>\n",
       "      <td>0.051053</td>\n",
       "      <td>0.051053</td>\n",
       "      <td>0.051053</td>\n",
       "    </tr>\n",
       "    <tr>\n",
       "      <th>2019-02-01</th>\n",
       "      <td>1.0</td>\n",
       "      <td>0.183372</td>\n",
       "      <td>0.063138</td>\n",
       "      <td>0.051684</td>\n",
       "      <td>0.051684</td>\n",
       "      <td>0.051684</td>\n",
       "      <td>0.051684</td>\n",
       "      <td>0.051684</td>\n",
       "      <td>0.051684</td>\n",
       "      <td>0.051684</td>\n",
       "      <td>0.051684</td>\n",
       "      <td>0.051684</td>\n",
       "    </tr>\n",
       "    <tr>\n",
       "      <th>2019-03-01</th>\n",
       "      <td>1.0</td>\n",
       "      <td>0.172975</td>\n",
       "      <td>0.059914</td>\n",
       "      <td>0.048539</td>\n",
       "      <td>0.048539</td>\n",
       "      <td>0.048539</td>\n",
       "      <td>0.048539</td>\n",
       "      <td>0.048539</td>\n",
       "      <td>0.048539</td>\n",
       "      <td>0.048539</td>\n",
       "      <td>0.048539</td>\n",
       "      <td>0.048539</td>\n",
       "    </tr>\n",
       "    <tr>\n",
       "      <th>2019-04-01</th>\n",
       "      <td>1.0</td>\n",
       "      <td>0.174778</td>\n",
       "      <td>0.062548</td>\n",
       "      <td>0.050838</td>\n",
       "      <td>0.050838</td>\n",
       "      <td>0.050838</td>\n",
       "      <td>0.050838</td>\n",
       "      <td>0.050838</td>\n",
       "      <td>0.050838</td>\n",
       "      <td>0.050838</td>\n",
       "      <td>0.050838</td>\n",
       "      <td>0.050838</td>\n",
       "    </tr>\n",
       "    <tr>\n",
       "      <th>2019-05-01</th>\n",
       "      <td>1.0</td>\n",
       "      <td>0.174738</td>\n",
       "      <td>0.061957</td>\n",
       "      <td>0.049805</td>\n",
       "      <td>0.049805</td>\n",
       "      <td>0.049805</td>\n",
       "      <td>0.049805</td>\n",
       "      <td>0.049805</td>\n",
       "      <td>0.049805</td>\n",
       "      <td>0.049805</td>\n",
       "      <td>0.049805</td>\n",
       "      <td>0.049805</td>\n",
       "    </tr>\n",
       "    <tr>\n",
       "      <th>2019-06-01</th>\n",
       "      <td>1.0</td>\n",
       "      <td>0.179888</td>\n",
       "      <td>0.063246</td>\n",
       "      <td>0.051914</td>\n",
       "      <td>0.051914</td>\n",
       "      <td>0.051914</td>\n",
       "      <td>0.051914</td>\n",
       "      <td>0.051914</td>\n",
       "      <td>0.051914</td>\n",
       "      <td>0.051914</td>\n",
       "      <td>0.051914</td>\n",
       "      <td>0.051914</td>\n",
       "    </tr>\n",
       "    <tr>\n",
       "      <th>2019-07-01</th>\n",
       "      <td>1.0</td>\n",
       "      <td>0.172912</td>\n",
       "      <td>0.061783</td>\n",
       "      <td>0.050510</td>\n",
       "      <td>0.050510</td>\n",
       "      <td>0.050510</td>\n",
       "      <td>0.050510</td>\n",
       "      <td>0.050510</td>\n",
       "      <td>0.050510</td>\n",
       "      <td>0.050510</td>\n",
       "      <td>0.050510</td>\n",
       "      <td>0.050510</td>\n",
       "    </tr>\n",
       "    <tr>\n",
       "      <th>2019-08-01</th>\n",
       "      <td>1.0</td>\n",
       "      <td>0.171064</td>\n",
       "      <td>0.061151</td>\n",
       "      <td>0.048342</td>\n",
       "      <td>0.048342</td>\n",
       "      <td>0.048342</td>\n",
       "      <td>0.048342</td>\n",
       "      <td>0.048342</td>\n",
       "      <td>0.048342</td>\n",
       "      <td>0.048342</td>\n",
       "      <td>0.048342</td>\n",
       "      <td>0.048342</td>\n",
       "    </tr>\n",
       "    <tr>\n",
       "      <th>2019-09-01</th>\n",
       "      <td>1.0</td>\n",
       "      <td>0.174042</td>\n",
       "      <td>0.062835</td>\n",
       "      <td>0.051107</td>\n",
       "      <td>0.051107</td>\n",
       "      <td>0.051107</td>\n",
       "      <td>0.051107</td>\n",
       "      <td>0.051107</td>\n",
       "      <td>0.051107</td>\n",
       "      <td>0.051107</td>\n",
       "      <td>0.051107</td>\n",
       "      <td>0.051107</td>\n",
       "    </tr>\n",
       "    <tr>\n",
       "      <th>2019-10-01</th>\n",
       "      <td>1.0</td>\n",
       "      <td>0.174012</td>\n",
       "      <td>0.064901</td>\n",
       "      <td>0.050866</td>\n",
       "      <td>0.050866</td>\n",
       "      <td>0.050866</td>\n",
       "      <td>0.050866</td>\n",
       "      <td>0.050866</td>\n",
       "      <td>0.050866</td>\n",
       "      <td>0.050866</td>\n",
       "      <td>0.050866</td>\n",
       "      <td>0.050866</td>\n",
       "    </tr>\n",
       "    <tr>\n",
       "      <th>2019-11-01</th>\n",
       "      <td>1.0</td>\n",
       "      <td>0.175631</td>\n",
       "      <td>0.059176</td>\n",
       "      <td>0.048568</td>\n",
       "      <td>0.048568</td>\n",
       "      <td>0.048568</td>\n",
       "      <td>0.048568</td>\n",
       "      <td>0.048568</td>\n",
       "      <td>0.048568</td>\n",
       "      <td>0.048568</td>\n",
       "      <td>0.048568</td>\n",
       "      <td>NaN</td>\n",
       "    </tr>\n",
       "    <tr>\n",
       "      <th>2019-12-01</th>\n",
       "      <td>1.0</td>\n",
       "      <td>0.175812</td>\n",
       "      <td>0.062358</td>\n",
       "      <td>0.051159</td>\n",
       "      <td>0.051159</td>\n",
       "      <td>0.051159</td>\n",
       "      <td>0.051159</td>\n",
       "      <td>0.051159</td>\n",
       "      <td>0.051159</td>\n",
       "      <td>0.051159</td>\n",
       "      <td>NaN</td>\n",
       "      <td>NaN</td>\n",
       "    </tr>\n",
       "  </tbody>\n",
       "</table>\n",
       "</div>"
      ],
      "text/plain": [
       "retention_month  1.0       2.0       3.0       4.0       5.0       6.0   \\\n",
       "reg_ts                                                                    \n",
       "2019-01-01        1.0  0.177418  0.066991  0.051053  0.051053  0.051053   \n",
       "2019-02-01        1.0  0.183372  0.063138  0.051684  0.051684  0.051684   \n",
       "2019-03-01        1.0  0.172975  0.059914  0.048539  0.048539  0.048539   \n",
       "2019-04-01        1.0  0.174778  0.062548  0.050838  0.050838  0.050838   \n",
       "2019-05-01        1.0  0.174738  0.061957  0.049805  0.049805  0.049805   \n",
       "2019-06-01        1.0  0.179888  0.063246  0.051914  0.051914  0.051914   \n",
       "2019-07-01        1.0  0.172912  0.061783  0.050510  0.050510  0.050510   \n",
       "2019-08-01        1.0  0.171064  0.061151  0.048342  0.048342  0.048342   \n",
       "2019-09-01        1.0  0.174042  0.062835  0.051107  0.051107  0.051107   \n",
       "2019-10-01        1.0  0.174012  0.064901  0.050866  0.050866  0.050866   \n",
       "2019-11-01        1.0  0.175631  0.059176  0.048568  0.048568  0.048568   \n",
       "2019-12-01        1.0  0.175812  0.062358  0.051159  0.051159  0.051159   \n",
       "\n",
       "retention_month      7.0       8.0       9.0       10.0      11.0      12.0  \n",
       "reg_ts                                                                       \n",
       "2019-01-01       0.051053  0.051053  0.051053  0.051053  0.051053  0.051053  \n",
       "2019-02-01       0.051684  0.051684  0.051684  0.051684  0.051684  0.051684  \n",
       "2019-03-01       0.048539  0.048539  0.048539  0.048539  0.048539  0.048539  \n",
       "2019-04-01       0.050838  0.050838  0.050838  0.050838  0.050838  0.050838  \n",
       "2019-05-01       0.049805  0.049805  0.049805  0.049805  0.049805  0.049805  \n",
       "2019-06-01       0.051914  0.051914  0.051914  0.051914  0.051914  0.051914  \n",
       "2019-07-01       0.050510  0.050510  0.050510  0.050510  0.050510  0.050510  \n",
       "2019-08-01       0.048342  0.048342  0.048342  0.048342  0.048342  0.048342  \n",
       "2019-09-01       0.051107  0.051107  0.051107  0.051107  0.051107  0.051107  \n",
       "2019-10-01       0.050866  0.050866  0.050866  0.050866  0.050866  0.050866  \n",
       "2019-11-01       0.048568  0.048568  0.048568  0.048568  0.048568       NaN  \n",
       "2019-12-01       0.051159  0.051159  0.051159  0.051159       NaN       NaN  "
      ]
     },
     "execution_count": 40,
     "metadata": {},
     "output_type": "execute_result"
    }
   ],
   "source": [
    "retention_pivot"
   ]
  },
  {
   "cell_type": "code",
   "execution_count": 41,
   "metadata": {},
   "outputs": [
    {
     "data": {
      "text/plain": [
       "<matplotlib.axes._subplots.AxesSubplot at 0x7fce864b2710>"
      ]
     },
     "execution_count": 41,
     "metadata": {},
     "output_type": "execute_result"
    },
    {
     "data": {
      "image/png": "[encoded data removed]",
      "text/plain": [
       "<Figure size 1440x576 with 2 Axes>"
      ]
     },
     "metadata": {
      "needs_background": "light"
     },
     "output_type": "display_data"
    }
   ],
   "source": [
    "plt.figure(figsize=(20, 8))\n",
    "plt.title('Retention Rate per Cohorts')\n",
    "sns.heatmap(retention_pivot.iloc[:, 1:], annot=True, fmt='.2%', linewidths=1, linecolor='black')"
   ]
  },
  {
   "cell_type": "markdown",
   "metadata": {},
   "source": [
    "Мы рассмотрели детально, как расчитывается retention для когорт по месяцам регистрации, теперь давайте составим универсальную формулу, которая будет включать все шаги, которые мы прошли ранее."
   ]
  },
  {
   "cell_type": "markdown",
   "metadata": {},
   "source": [
    "#### Формула для расчета Retention Rate по когортам - месяцам:"
   ]
  },
  {
   "cell_type": "code",
   "execution_count": 42,
   "metadata": {},
   "outputs": [],
   "source": [
    "reg_data_to_function = '~/shared/problem1-reg_data.csv'"
   ]
  },
  {
   "cell_type": "code",
   "execution_count": 43,
   "metadata": {},
   "outputs": [],
   "source": [
    "auth_data_to_function = '~/shared/problem1-auth_data.csv'"
   ]
  },
  {
   "cell_type": "code",
   "execution_count": 44,
   "metadata": {},
   "outputs": [],
   "source": [
    "#period = \"reg_ts >= '1998-11-01' and reg_ts <= '2020-09-01'\" # Максимальный период данных"
   ]
  },
  {
   "cell_type": "code",
   "execution_count": 45,
   "metadata": {},
   "outputs": [],
   "source": [
    "period = \"reg_ts >= '2019-01-01' and reg_ts <= '2019-12-01' and retention_month >= 1 and retention_month <= 12\" # Для примера"
   ]
  },
  {
   "cell_type": "code",
   "execution_count": 46,
   "metadata": {},
   "outputs": [],
   "source": [
    "def retention_function(reg_data_to_function, auth_data_to_function):\n",
    "    '''\n",
    "    Возвращает Retention Rate в формате таблицы и тепловой карты.\n",
    "            Параметры:\n",
    "                    reg_data_to_function: путь к данным с информацией о датах регистрации пользователей\n",
    "                    auth_data_to_function: путь к данным с информацией о датах авторизации пользователей\n",
    "            Возвращаемое значение:\n",
    "                    Retention Rate в формате таблицы и тепловой карты\n",
    "    '''\n",
    "    get_data_reg = pd.read_csv(reg_data_to_function, sep =';')\n",
    "    get_data_auth = pd.read_csv(auth_data_to_function, sep =';')\n",
    "    get_data_reg['reg_ts'] = pd.to_datetime(get_data_reg['reg_ts'], unit='s')\n",
    "    get_data_reg['reg_ts'] = get_data_reg['reg_ts'].astype('datetime64[M]')\n",
    "    get_data_auth['auth_ts'] = pd.to_datetime(get_data_auth['auth_ts'], unit='s')\n",
    "    get_data_auth['auth_ts'] = get_data_auth['auth_ts'].astype('datetime64[M]')\n",
    "    all_data_users = reg_data.merge(auth_data, on = 'uid')\n",
    "    all_data_users = all_data_users.groupby(['reg_ts', 'auth_ts'], as_index = False).uid.nunique().rename(columns = {'uid':'cohort_users'})\n",
    "    cohorts = reg_data.groupby('reg_ts', as_index = False).uid.nunique().rename(columns = {'uid':'initial_users'})\n",
    "    all_data_users = all_data_users.merge(cohorts, on = 'reg_ts')\n",
    "    all_data_users['cohort_diff'] = all_data_users.auth_ts - all_data_users.reg_ts\n",
    "    all_data_users['retention'] = all_data_users.cohort_users / all_data_users.initial_users\n",
    "    all_data_users['retention_month'] = (all_data_users['cohort_diff']/np.timedelta64(1, 'M') + 1).round()\n",
    "    retention_pivot = all_data_users.query(period).pivot_table(index='reg_ts', columns='retention_month', values='retention', aggfunc='sum')\n",
    "    plt.figure(figsize=(20, 8))\n",
    "    plt.title('Retention Rate per Cohorts')\n",
    "    sns.heatmap(retention_pivot.iloc[:, 1:], annot=True, fmt='.2%', linewidths=1, linecolor='black')\n",
    "    return (retention_pivot)"
   ]
  },
  {
   "cell_type": "code",
   "execution_count": 47,
   "metadata": {},
   "outputs": [
    {
     "name": "stdout",
     "output_type": "stream",
     "text": [
      "\n",
      "    Возвращает Retention Rate в формате таблицы и тепловой карты.\n",
      "            Параметры:\n",
      "                    reg_data_to_function: путь к данным с информацией о датах регистрации пользователей\n",
      "                    auth_data_to_function: путь к данным с информацией о датах авторизации пользователей\n",
      "            Возвращаемое значение:\n",
      "                    Retention Rate в формате таблицы и тепловой карты\n",
      "    \n"
     ]
    }
   ],
   "source": [
    "print(retention_function.__doc__)"
   ]
  },
  {
   "cell_type": "code",
   "execution_count": 48,
   "metadata": {},
   "outputs": [
    {
     "data": {
      "text/html": [
       "<div>\n",
       "<style scoped>\n",
       "    .dataframe tbody tr th:only-of-type {\n",
       "        vertical-align: middle;\n",
       "    }\n",
       "\n",
       "    .dataframe tbody tr th {\n",
       "        vertical-align: top;\n",
       "    }\n",
       "\n",
       "    .dataframe thead th {\n",
       "        text-align: right;\n",
       "    }\n",
       "</style>\n",
       "<table border=\"1\" class=\"dataframe\">\n",
       "  <thead>\n",
       "    <tr style=\"text-align: right;\">\n",
       "      <th>retention_month</th>\n",
       "      <th>1.0</th>\n",
       "      <th>2.0</th>\n",
       "      <th>3.0</th>\n",
       "      <th>4.0</th>\n",
       "      <th>5.0</th>\n",
       "      <th>6.0</th>\n",
       "      <th>7.0</th>\n",
       "      <th>8.0</th>\n",
       "      <th>9.0</th>\n",
       "      <th>10.0</th>\n",
       "      <th>11.0</th>\n",
       "      <th>12.0</th>\n",
       "    </tr>\n",
       "    <tr>\n",
       "      <th>reg_ts</th>\n",
       "      <th></th>\n",
       "      <th></th>\n",
       "      <th></th>\n",
       "      <th></th>\n",
       "      <th></th>\n",
       "      <th></th>\n",
       "      <th></th>\n",
       "      <th></th>\n",
       "      <th></th>\n",
       "      <th></th>\n",
       "      <th></th>\n",
       "      <th></th>\n",
       "    </tr>\n",
       "  </thead>\n",
       "  <tbody>\n",
       "    <tr>\n",
       "      <th>2019-01-01</th>\n",
       "      <td>1.0</td>\n",
       "      <td>0.177418</td>\n",
       "      <td>0.066991</td>\n",
       "      <td>0.051053</td>\n",
       "      <td>0.051053</td>\n",
       "      <td>0.051053</td>\n",
       "      <td>0.051053</td>\n",
       "      <td>0.051053</td>\n",
       "      <td>0.051053</td>\n",
       "      <td>0.051053</td>\n",
       "      <td>0.051053</td>\n",
       "      <td>0.051053</td>\n",
       "    </tr>\n",
       "    <tr>\n",
       "      <th>2019-02-01</th>\n",
       "      <td>1.0</td>\n",
       "      <td>0.183372</td>\n",
       "      <td>0.063138</td>\n",
       "      <td>0.051684</td>\n",
       "      <td>0.051684</td>\n",
       "      <td>0.051684</td>\n",
       "      <td>0.051684</td>\n",
       "      <td>0.051684</td>\n",
       "      <td>0.051684</td>\n",
       "      <td>0.051684</td>\n",
       "      <td>0.051684</td>\n",
       "      <td>0.051684</td>\n",
       "    </tr>\n",
       "    <tr>\n",
       "      <th>2019-03-01</th>\n",
       "      <td>1.0</td>\n",
       "      <td>0.172975</td>\n",
       "      <td>0.059914</td>\n",
       "      <td>0.048539</td>\n",
       "      <td>0.048539</td>\n",
       "      <td>0.048539</td>\n",
       "      <td>0.048539</td>\n",
       "      <td>0.048539</td>\n",
       "      <td>0.048539</td>\n",
       "      <td>0.048539</td>\n",
       "      <td>0.048539</td>\n",
       "      <td>0.048539</td>\n",
       "    </tr>\n",
       "    <tr>\n",
       "      <th>2019-04-01</th>\n",
       "      <td>1.0</td>\n",
       "      <td>0.174778</td>\n",
       "      <td>0.062548</td>\n",
       "      <td>0.050838</td>\n",
       "      <td>0.050838</td>\n",
       "      <td>0.050838</td>\n",
       "      <td>0.050838</td>\n",
       "      <td>0.050838</td>\n",
       "      <td>0.050838</td>\n",
       "      <td>0.050838</td>\n",
       "      <td>0.050838</td>\n",
       "      <td>0.050838</td>\n",
       "    </tr>\n",
       "    <tr>\n",
       "      <th>2019-05-01</th>\n",
       "      <td>1.0</td>\n",
       "      <td>0.174738</td>\n",
       "      <td>0.061957</td>\n",
       "      <td>0.049805</td>\n",
       "      <td>0.049805</td>\n",
       "      <td>0.049805</td>\n",
       "      <td>0.049805</td>\n",
       "      <td>0.049805</td>\n",
       "      <td>0.049805</td>\n",
       "      <td>0.049805</td>\n",
       "      <td>0.049805</td>\n",
       "      <td>0.049805</td>\n",
       "    </tr>\n",
       "    <tr>\n",
       "      <th>2019-06-01</th>\n",
       "      <td>1.0</td>\n",
       "      <td>0.179888</td>\n",
       "      <td>0.063246</td>\n",
       "      <td>0.051914</td>\n",
       "      <td>0.051914</td>\n",
       "      <td>0.051914</td>\n",
       "      <td>0.051914</td>\n",
       "      <td>0.051914</td>\n",
       "      <td>0.051914</td>\n",
       "      <td>0.051914</td>\n",
       "      <td>0.051914</td>\n",
       "      <td>0.051914</td>\n",
       "    </tr>\n",
       "    <tr>\n",
       "      <th>2019-07-01</th>\n",
       "      <td>1.0</td>\n",
       "      <td>0.172912</td>\n",
       "      <td>0.061783</td>\n",
       "      <td>0.050510</td>\n",
       "      <td>0.050510</td>\n",
       "      <td>0.050510</td>\n",
       "      <td>0.050510</td>\n",
       "      <td>0.050510</td>\n",
       "      <td>0.050510</td>\n",
       "      <td>0.050510</td>\n",
       "      <td>0.050510</td>\n",
       "      <td>0.050510</td>\n",
       "    </tr>\n",
       "    <tr>\n",
       "      <th>2019-08-01</th>\n",
       "      <td>1.0</td>\n",
       "      <td>0.171064</td>\n",
       "      <td>0.061151</td>\n",
       "      <td>0.048342</td>\n",
       "      <td>0.048342</td>\n",
       "      <td>0.048342</td>\n",
       "      <td>0.048342</td>\n",
       "      <td>0.048342</td>\n",
       "      <td>0.048342</td>\n",
       "      <td>0.048342</td>\n",
       "      <td>0.048342</td>\n",
       "      <td>0.048342</td>\n",
       "    </tr>\n",
       "    <tr>\n",
       "      <th>2019-09-01</th>\n",
       "      <td>1.0</td>\n",
       "      <td>0.174042</td>\n",
       "      <td>0.062835</td>\n",
       "      <td>0.051107</td>\n",
       "      <td>0.051107</td>\n",
       "      <td>0.051107</td>\n",
       "      <td>0.051107</td>\n",
       "      <td>0.051107</td>\n",
       "      <td>0.051107</td>\n",
       "      <td>0.051107</td>\n",
       "      <td>0.051107</td>\n",
       "      <td>0.051107</td>\n",
       "    </tr>\n",
       "    <tr>\n",
       "      <th>2019-10-01</th>\n",
       "      <td>1.0</td>\n",
       "      <td>0.174012</td>\n",
       "      <td>0.064901</td>\n",
       "      <td>0.050866</td>\n",
       "      <td>0.050866</td>\n",
       "      <td>0.050866</td>\n",
       "      <td>0.050866</td>\n",
       "      <td>0.050866</td>\n",
       "      <td>0.050866</td>\n",
       "      <td>0.050866</td>\n",
       "      <td>0.050866</td>\n",
       "      <td>0.050866</td>\n",
       "    </tr>\n",
       "    <tr>\n",
       "      <th>2019-11-01</th>\n",
       "      <td>1.0</td>\n",
       "      <td>0.175631</td>\n",
       "      <td>0.059176</td>\n",
       "      <td>0.048568</td>\n",
       "      <td>0.048568</td>\n",
       "      <td>0.048568</td>\n",
       "      <td>0.048568</td>\n",
       "      <td>0.048568</td>\n",
       "      <td>0.048568</td>\n",
       "      <td>0.048568</td>\n",
       "      <td>0.048568</td>\n",
       "      <td>NaN</td>\n",
       "    </tr>\n",
       "    <tr>\n",
       "      <th>2019-12-01</th>\n",
       "      <td>1.0</td>\n",
       "      <td>0.175812</td>\n",
       "      <td>0.062358</td>\n",
       "      <td>0.051159</td>\n",
       "      <td>0.051159</td>\n",
       "      <td>0.051159</td>\n",
       "      <td>0.051159</td>\n",
       "      <td>0.051159</td>\n",
       "      <td>0.051159</td>\n",
       "      <td>0.051159</td>\n",
       "      <td>NaN</td>\n",
       "      <td>NaN</td>\n",
       "    </tr>\n",
       "  </tbody>\n",
       "</table>\n",
       "</div>"
      ],
      "text/plain": [
       "retention_month  1.0       2.0       3.0       4.0       5.0       6.0   \\\n",
       "reg_ts                                                                    \n",
       "2019-01-01        1.0  0.177418  0.066991  0.051053  0.051053  0.051053   \n",
       "2019-02-01        1.0  0.183372  0.063138  0.051684  0.051684  0.051684   \n",
       "2019-03-01        1.0  0.172975  0.059914  0.048539  0.048539  0.048539   \n",
       "2019-04-01        1.0  0.174778  0.062548  0.050838  0.050838  0.050838   \n",
       "2019-05-01        1.0  0.174738  0.061957  0.049805  0.049805  0.049805   \n",
       "2019-06-01        1.0  0.179888  0.063246  0.051914  0.051914  0.051914   \n",
       "2019-07-01        1.0  0.172912  0.061783  0.050510  0.050510  0.050510   \n",
       "2019-08-01        1.0  0.171064  0.061151  0.048342  0.048342  0.048342   \n",
       "2019-09-01        1.0  0.174042  0.062835  0.051107  0.051107  0.051107   \n",
       "2019-10-01        1.0  0.174012  0.064901  0.050866  0.050866  0.050866   \n",
       "2019-11-01        1.0  0.175631  0.059176  0.048568  0.048568  0.048568   \n",
       "2019-12-01        1.0  0.175812  0.062358  0.051159  0.051159  0.051159   \n",
       "\n",
       "retention_month      7.0       8.0       9.0       10.0      11.0      12.0  \n",
       "reg_ts                                                                       \n",
       "2019-01-01       0.051053  0.051053  0.051053  0.051053  0.051053  0.051053  \n",
       "2019-02-01       0.051684  0.051684  0.051684  0.051684  0.051684  0.051684  \n",
       "2019-03-01       0.048539  0.048539  0.048539  0.048539  0.048539  0.048539  \n",
       "2019-04-01       0.050838  0.050838  0.050838  0.050838  0.050838  0.050838  \n",
       "2019-05-01       0.049805  0.049805  0.049805  0.049805  0.049805  0.049805  \n",
       "2019-06-01       0.051914  0.051914  0.051914  0.051914  0.051914  0.051914  \n",
       "2019-07-01       0.050510  0.050510  0.050510  0.050510  0.050510  0.050510  \n",
       "2019-08-01       0.048342  0.048342  0.048342  0.048342  0.048342  0.048342  \n",
       "2019-09-01       0.051107  0.051107  0.051107  0.051107  0.051107  0.051107  \n",
       "2019-10-01       0.050866  0.050866  0.050866  0.050866  0.050866  0.050866  \n",
       "2019-11-01       0.048568  0.048568  0.048568  0.048568  0.048568       NaN  \n",
       "2019-12-01       0.051159  0.051159  0.051159  0.051159       NaN       NaN  "
      ]
     },
     "execution_count": 48,
     "metadata": {},
     "output_type": "execute_result"
    },
    {
     "data": {
      "image/png": "[encoded data removed]",
      "text/plain": [
       "<Figure size 1440x576 with 2 Axes>"
      ]
     },
     "metadata": {
      "needs_background": "light"
     },
     "output_type": "display_data"
    }
   ],
   "source": [
    "retention_function(reg_data_to_function, auth_data_to_function)"
   ]
  },
  {
   "cell_type": "markdown",
   "metadata": {},
   "source": [
    "## Задание 2"
   ]
  },
  {
   "cell_type": "markdown",
   "metadata": {},
   "source": [
    "Имеются результаты A/B теста, в котором двум группам пользователей предлагались различные наборы акционных предложений. Известно, что ARPU в тестовой группе выше на 5%, чем в контрольной. При этом в контрольной группе 1928 игроков из 202103 оказались платящими, а в тестовой – 1805 из 202667.\n",
    "\n",
    "Какой набор предложений можно считать лучшим? Какие метрики стоит проанализировать для принятия правильного решения и как?"
   ]
  },
  {
   "cell_type": "markdown",
   "metadata": {},
   "source": [
    "Для принятия решения о том, какое предложение можно считать лучшим, мы посчитаем три продуктовые метрики (ARPU, ARPPU, CR) для каждой группы, сравним их и проверим, есть ли статистически значимые различия.\n",
    "\n",
    "Начнем с загрузки данных и разведовательного анализа."
   ]
  },
  {
   "cell_type": "code",
   "execution_count": 49,
   "metadata": {},
   "outputs": [
    {
     "data": {
      "text/html": [
       "<div>\n",
       "<style scoped>\n",
       "    .dataframe tbody tr th:only-of-type {\n",
       "        vertical-align: middle;\n",
       "    }\n",
       "\n",
       "    .dataframe tbody tr th {\n",
       "        vertical-align: top;\n",
       "    }\n",
       "\n",
       "    .dataframe thead th {\n",
       "        text-align: right;\n",
       "    }\n",
       "</style>\n",
       "<table border=\"1\" class=\"dataframe\">\n",
       "  <thead>\n",
       "    <tr style=\"text-align: right;\">\n",
       "      <th></th>\n",
       "      <th>user_id</th>\n",
       "      <th>revenue</th>\n",
       "      <th>testgroup</th>\n",
       "    </tr>\n",
       "  </thead>\n",
       "  <tbody>\n",
       "    <tr>\n",
       "      <th>0</th>\n",
       "      <td>1</td>\n",
       "      <td>0</td>\n",
       "      <td>b</td>\n",
       "    </tr>\n",
       "    <tr>\n",
       "      <th>1</th>\n",
       "      <td>2</td>\n",
       "      <td>0</td>\n",
       "      <td>a</td>\n",
       "    </tr>\n",
       "    <tr>\n",
       "      <th>2</th>\n",
       "      <td>3</td>\n",
       "      <td>0</td>\n",
       "      <td>a</td>\n",
       "    </tr>\n",
       "    <tr>\n",
       "      <th>3</th>\n",
       "      <td>4</td>\n",
       "      <td>0</td>\n",
       "      <td>b</td>\n",
       "    </tr>\n",
       "    <tr>\n",
       "      <th>4</th>\n",
       "      <td>5</td>\n",
       "      <td>0</td>\n",
       "      <td>b</td>\n",
       "    </tr>\n",
       "  </tbody>\n",
       "</table>\n",
       "</div>"
      ],
      "text/plain": [
       "   user_id  revenue testgroup\n",
       "0        1        0         b\n",
       "1        2        0         a\n",
       "2        3        0         a\n",
       "3        4        0         b\n",
       "4        5        0         b"
      ]
     },
     "execution_count": 49,
     "metadata": {},
     "output_type": "execute_result"
    }
   ],
   "source": [
    "df = pd.read_csv('/mnt/HC_Volume_18315164/home-jupyter/jupyter-a-murzakova/final_project_own/variant_1/Проект_1_Задание_2.csv', sep = ';')\n",
    "df.head()"
   ]
  },
  {
   "cell_type": "code",
   "execution_count": 50,
   "metadata": {},
   "outputs": [
    {
     "data": {
      "text/plain": [
       "(404770, 3)"
      ]
     },
     "execution_count": 50,
     "metadata": {},
     "output_type": "execute_result"
    }
   ],
   "source": [
    "df.shape"
   ]
  },
  {
   "cell_type": "code",
   "execution_count": 51,
   "metadata": {},
   "outputs": [
    {
     "data": {
      "text/html": [
       "<div>\n",
       "<style scoped>\n",
       "    .dataframe tbody tr th:only-of-type {\n",
       "        vertical-align: middle;\n",
       "    }\n",
       "\n",
       "    .dataframe tbody tr th {\n",
       "        vertical-align: top;\n",
       "    }\n",
       "\n",
       "    .dataframe thead th {\n",
       "        text-align: right;\n",
       "    }\n",
       "</style>\n",
       "<table border=\"1\" class=\"dataframe\">\n",
       "  <thead>\n",
       "    <tr style=\"text-align: right;\">\n",
       "      <th></th>\n",
       "      <th>user_id</th>\n",
       "      <th>revenue</th>\n",
       "    </tr>\n",
       "  </thead>\n",
       "  <tbody>\n",
       "    <tr>\n",
       "      <th>count</th>\n",
       "      <td>404770.000000</td>\n",
       "      <td>404770.000000</td>\n",
       "    </tr>\n",
       "    <tr>\n",
       "      <th>mean</th>\n",
       "      <td>202385.500000</td>\n",
       "      <td>26.083435</td>\n",
       "    </tr>\n",
       "    <tr>\n",
       "      <th>std</th>\n",
       "      <td>116847.178567</td>\n",
       "      <td>681.652928</td>\n",
       "    </tr>\n",
       "    <tr>\n",
       "      <th>min</th>\n",
       "      <td>1.000000</td>\n",
       "      <td>0.000000</td>\n",
       "    </tr>\n",
       "    <tr>\n",
       "      <th>25%</th>\n",
       "      <td>101193.250000</td>\n",
       "      <td>0.000000</td>\n",
       "    </tr>\n",
       "    <tr>\n",
       "      <th>50%</th>\n",
       "      <td>202385.500000</td>\n",
       "      <td>0.000000</td>\n",
       "    </tr>\n",
       "    <tr>\n",
       "      <th>75%</th>\n",
       "      <td>303577.750000</td>\n",
       "      <td>0.000000</td>\n",
       "    </tr>\n",
       "    <tr>\n",
       "      <th>max</th>\n",
       "      <td>404770.000000</td>\n",
       "      <td>37433.000000</td>\n",
       "    </tr>\n",
       "  </tbody>\n",
       "</table>\n",
       "</div>"
      ],
      "text/plain": [
       "             user_id        revenue\n",
       "count  404770.000000  404770.000000\n",
       "mean   202385.500000      26.083435\n",
       "std    116847.178567     681.652928\n",
       "min         1.000000       0.000000\n",
       "25%    101193.250000       0.000000\n",
       "50%    202385.500000       0.000000\n",
       "75%    303577.750000       0.000000\n",
       "max    404770.000000   37433.000000"
      ]
     },
     "execution_count": 51,
     "metadata": {},
     "output_type": "execute_result"
    }
   ],
   "source": [
    "df.describe()"
   ]
  },
  {
   "cell_type": "markdown",
   "metadata": {},
   "source": [
    "#### ARPU\n",
    "Начнем с первой метрики - ARPU. Метрика ARPU отвечает на вопрос: сколько выручки приносит средний активный пользователь за изучаемый период времени. В задании сказано, что ARPU в тестовой группе выше на 5%, чем в контрольной, также проверим данную информацию. За активных пользователей будем считать всех пользователей: и платящих, и тех, по кому пока не было получено выручки."
   ]
  },
  {
   "cell_type": "code",
   "execution_count": 52,
   "metadata": {},
   "outputs": [
    {
     "data": {
      "text/plain": [
       "25.413719736965806"
      ]
     },
     "execution_count": 52,
     "metadata": {},
     "output_type": "execute_result"
    }
   ],
   "source": [
    "ARPU_a = df.query(\"testgroup == 'a'\").revenue.sum() / df.query(\"testgroup == 'a'\").user_id.count() # Посчитаем показатели \"внучную\"\n",
    "ARPU_a"
   ]
  },
  {
   "cell_type": "code",
   "execution_count": 53,
   "metadata": {},
   "outputs": [
    {
     "data": {
      "text/plain": [
       "26.75128659327863"
      ]
     },
     "execution_count": 53,
     "metadata": {},
     "output_type": "execute_result"
    }
   ],
   "source": [
    "ARPU_b = df.query(\"testgroup == 'b'\").revenue.sum() / df.query(\"testgroup == 'b'\").user_id.count()\n",
    "ARPU_b"
   ]
  },
  {
   "cell_type": "code",
   "execution_count": 54,
   "metadata": {},
   "outputs": [
    {
     "data": {
      "text/plain": [
       "0.95"
      ]
     },
     "execution_count": 54,
     "metadata": {},
     "output_type": "execute_result"
    }
   ],
   "source": [
    "np.round(ARPU_a / ARPU_b, 2)"
   ]
  },
  {
   "cell_type": "markdown",
   "metadata": {},
   "source": [
    "Действительно, ARPU в контрольной группе ниже на 5%, чем в тестовой. Посмотрим данные более детально."
   ]
  },
  {
   "cell_type": "code",
   "execution_count": 55,
   "metadata": {},
   "outputs": [
    {
     "data": {
      "text/html": [
       "<div>\n",
       "<style scoped>\n",
       "    .dataframe tbody tr th:only-of-type {\n",
       "        vertical-align: middle;\n",
       "    }\n",
       "\n",
       "    .dataframe tbody tr th {\n",
       "        vertical-align: top;\n",
       "    }\n",
       "\n",
       "    .dataframe thead th {\n",
       "        text-align: right;\n",
       "    }\n",
       "</style>\n",
       "<table border=\"1\" class=\"dataframe\">\n",
       "  <thead>\n",
       "    <tr style=\"text-align: right;\">\n",
       "      <th></th>\n",
       "      <th>testgroup</th>\n",
       "      <th>user_id</th>\n",
       "    </tr>\n",
       "  </thead>\n",
       "  <tbody>\n",
       "    <tr>\n",
       "      <th>0</th>\n",
       "      <td>a</td>\n",
       "      <td>202103</td>\n",
       "    </tr>\n",
       "    <tr>\n",
       "      <th>1</th>\n",
       "      <td>b</td>\n",
       "      <td>202667</td>\n",
       "    </tr>\n",
       "  </tbody>\n",
       "</table>\n",
       "</div>"
      ],
      "text/plain": [
       "  testgroup  user_id\n",
       "0         a   202103\n",
       "1         b   202667"
      ]
     },
     "execution_count": 55,
     "metadata": {},
     "output_type": "execute_result"
    }
   ],
   "source": [
    "df.groupby('testgroup', as_index=False).agg({'user_id':'count'}) # Количество пользователей в каждой группе почти не отличается"
   ]
  },
  {
   "cell_type": "code",
   "execution_count": 56,
   "metadata": {
    "scrolled": true
   },
   "outputs": [
    {
     "data": {
      "text/html": [
       "<div>\n",
       "<style scoped>\n",
       "    .dataframe tbody tr th:only-of-type {\n",
       "        vertical-align: middle;\n",
       "    }\n",
       "\n",
       "    .dataframe tbody tr th {\n",
       "        vertical-align: top;\n",
       "    }\n",
       "\n",
       "    .dataframe thead th {\n",
       "        text-align: right;\n",
       "    }\n",
       "</style>\n",
       "<table border=\"1\" class=\"dataframe\">\n",
       "  <thead>\n",
       "    <tr style=\"text-align: right;\">\n",
       "      <th></th>\n",
       "      <th>testgroup</th>\n",
       "      <th>revenue</th>\n",
       "    </tr>\n",
       "  </thead>\n",
       "  <tbody>\n",
       "    <tr>\n",
       "      <th>0</th>\n",
       "      <td>a</td>\n",
       "      <td>5136189</td>\n",
       "    </tr>\n",
       "    <tr>\n",
       "      <th>1</th>\n",
       "      <td>b</td>\n",
       "      <td>5421603</td>\n",
       "    </tr>\n",
       "  </tbody>\n",
       "</table>\n",
       "</div>"
      ],
      "text/plain": [
       "  testgroup  revenue\n",
       "0         a  5136189\n",
       "1         b  5421603"
      ]
     },
     "execution_count": 56,
     "metadata": {},
     "output_type": "execute_result"
    }
   ],
   "source": [
    "df.groupby('testgroup', as_index=False).agg({'revenue':'sum'}) # Сумма выручки по каждой группе, в группе \"b\" выше почти на 300k"
   ]
  },
  {
   "cell_type": "code",
   "execution_count": 57,
   "metadata": {},
   "outputs": [
    {
     "data": {
      "text/html": [
       "<div>\n",
       "<style scoped>\n",
       "    .dataframe tbody tr th:only-of-type {\n",
       "        vertical-align: middle;\n",
       "    }\n",
       "\n",
       "    .dataframe tbody tr th {\n",
       "        vertical-align: top;\n",
       "    }\n",
       "\n",
       "    .dataframe thead th {\n",
       "        text-align: right;\n",
       "    }\n",
       "</style>\n",
       "<table border=\"1\" class=\"dataframe\">\n",
       "  <thead>\n",
       "    <tr style=\"text-align: right;\">\n",
       "      <th></th>\n",
       "      <th>testgroup</th>\n",
       "      <th>revenue</th>\n",
       "    </tr>\n",
       "  </thead>\n",
       "  <tbody>\n",
       "    <tr>\n",
       "      <th>0</th>\n",
       "      <td>a</td>\n",
       "      <td>25.41</td>\n",
       "    </tr>\n",
       "    <tr>\n",
       "      <th>1</th>\n",
       "      <td>b</td>\n",
       "      <td>26.75</td>\n",
       "    </tr>\n",
       "  </tbody>\n",
       "</table>\n",
       "</div>"
      ],
      "text/plain": [
       "  testgroup  revenue\n",
       "0         a    25.41\n",
       "1         b    26.75"
      ]
     },
     "execution_count": 57,
     "metadata": {},
     "output_type": "execute_result"
    }
   ],
   "source": [
    "df.groupby('testgroup', as_index = False).revenue.mean().round(2) # Среднее значение выручки для всех игроков каждой группы"
   ]
  },
  {
   "cell_type": "markdown",
   "metadata": {},
   "source": [
    "Мы видим, что ARPU второго предложения выше, чем в первой группе, сразу хочется сделать вывод о том, что второй набор предложений (b) лучше себя показал, но для того, чтобы сделать выводы о лучшей версии предложения, необходимо полагаться на статистические данные.\n",
    "\n",
    "Для выбора теста для проверки статистической значимости сперва посмотрим на распределение данных."
   ]
  },
  {
   "cell_type": "code",
   "execution_count": 58,
   "metadata": {},
   "outputs": [
    {
     "data": {
      "text/plain": [
       "<seaborn.axisgrid.FacetGrid at 0x7fce8438ac50>"
      ]
     },
     "execution_count": 58,
     "metadata": {},
     "output_type": "execute_result"
    },
    {
     "data": {
      "image/png": "[encoded data removed]",
      "text/plain": [
       "<Figure size 416x360 with 1 Axes>"
      ]
     },
     "metadata": {
      "needs_background": "light"
     },
     "output_type": "display_data"
    }
   ],
   "source": [
    "sns.displot(data = df, x = 'revenue', hue = 'testgroup')"
   ]
  },
  {
   "cell_type": "markdown",
   "metadata": {},
   "source": [
    "Построив гистограмму, видим, что распределение сильно сдвинуто влево, сконцентрировано вместе, то есть распределение далекое от нормального. Давайте это проверим с помощью теста Шапиро Уилко."
   ]
  },
  {
   "cell_type": "code",
   "execution_count": 59,
   "metadata": {},
   "outputs": [],
   "source": [
    "a_group = df.query(\"testgroup == 'a'\").revenue # Выручка по группам\n",
    "b_group = df.query(\"testgroup == 'b'\").revenue"
   ]
  },
  {
   "cell_type": "code",
   "execution_count": 60,
   "metadata": {},
   "outputs": [
    {
     "name": "stderr",
     "output_type": "stream",
     "text": [
      "/opt/tljh/user/lib/python3.7/site-packages/scipy/stats/morestats.py:1760: UserWarning: p-value may not be accurate for N > 5000.\n",
      "  warnings.warn(\"p-value may not be accurate for N > 5000.\")\n"
     ]
    },
    {
     "data": {
      "text/plain": [
       "ShapiroResult(statistic=0.008876502513885498, pvalue=0.0)"
      ]
     },
     "execution_count": 60,
     "metadata": {},
     "output_type": "execute_result"
    }
   ],
   "source": [
    "stats.shapiro(a_group) # Проверим распределение на нормальность с помощью теста Шапиро_Уилко"
   ]
  },
  {
   "cell_type": "code",
   "execution_count": 61,
   "metadata": {},
   "outputs": [
    {
     "data": {
      "text/plain": [
       "ShapiroResult(statistic=0.06588172912597656, pvalue=0.0)"
      ]
     },
     "execution_count": 61,
     "metadata": {},
     "output_type": "execute_result"
    }
   ],
   "source": [
    "stats.shapiro(b_group)"
   ]
  },
  {
   "cell_type": "markdown",
   "metadata": {},
   "source": [
    "Так как нулевая гипотеза в случае Шапиро-Уилка — нормальность распределения, то здесь мы можем сделать вывод о том, что распределение отклоняется от нормального (p-value < 0.05, отклоняем нулевую гипотезу о том, что распределение нормальное).\n",
    "\n",
    "В данном случае у нас много нулевых значений (неплатящие игроки), поэтому проводить тест Манна Уитни и трансформировать распределение (логарифмировать) мы не будем.\n",
    "\n",
    "Так как выборки большого размера (больше 30), проверим гипотезы с помощью t-test.\n",
    "\n",
    "* H0 (нулевая гипотеза) - средние значения значимо не различаются\n",
    "* H1 (альтернативная гипотеза) - средние значения значимо различаются"
   ]
  },
  {
   "cell_type": "code",
   "execution_count": 62,
   "metadata": {},
   "outputs": [
    {
     "data": {
      "text/plain": [
       "Ttest_indResult(statistic=-0.6242026493616787, pvalue=0.532494858971837)"
      ]
     },
     "execution_count": 62,
     "metadata": {},
     "output_type": "execute_result"
    }
   ],
   "source": [
    "stats.ttest_ind(a_group, b_group)"
   ]
  },
  {
   "cell_type": "markdown",
   "metadata": {},
   "source": [
    "P-value больше 0.05, поэтому мы не можем отклонить нулевую гипотезу и сделать вывод о том, что одно предложение лучше другого. Таким образом, мы не можем полагаться на метрику ARPU для принятия решения о лучшем предложении, давайте проанализируем другие метрики."
   ]
  },
  {
   "cell_type": "markdown",
   "metadata": {},
   "source": [
    "#### ARPPU\n",
    "Метрика ARPPU отвечает на вопрос: сколько выручки приносит средний платящий пользователь за изучаемый период времени."
   ]
  },
  {
   "cell_type": "code",
   "execution_count": 63,
   "metadata": {},
   "outputs": [
    {
     "data": {
      "text/plain": [
       "2663.9984439834025"
      ]
     },
     "execution_count": 63,
     "metadata": {},
     "output_type": "execute_result"
    }
   ],
   "source": [
    "ARPPU_a = df.query(\"testgroup == 'a'\").revenue.sum() / df.query(\"testgroup == 'a' and revenue != 0\").user_id.count()\n",
    "ARPPU_a"
   ]
  },
  {
   "cell_type": "code",
   "execution_count": 64,
   "metadata": {},
   "outputs": [
    {
     "data": {
      "text/plain": [
       "3003.6581717451522"
      ]
     },
     "execution_count": 64,
     "metadata": {},
     "output_type": "execute_result"
    }
   ],
   "source": [
    "ARPPU_b = df.query(\"testgroup == 'b'\").revenue.sum() / df.query(\"testgroup == 'b' and revenue != 0\").user_id.count()\n",
    "ARPPU_b"
   ]
  },
  {
   "cell_type": "code",
   "execution_count": 65,
   "metadata": {},
   "outputs": [
    {
     "data": {
      "text/plain": [
       "0.89"
      ]
     },
     "execution_count": 65,
     "metadata": {},
     "output_type": "execute_result"
    }
   ],
   "source": [
    "np.round(ARPPU_a / ARPPU_b, 2)"
   ]
  },
  {
   "cell_type": "code",
   "execution_count": 66,
   "metadata": {},
   "outputs": [
    {
     "data": {
      "text/html": [
       "<div>\n",
       "<style scoped>\n",
       "    .dataframe tbody tr th:only-of-type {\n",
       "        vertical-align: middle;\n",
       "    }\n",
       "\n",
       "    .dataframe tbody tr th {\n",
       "        vertical-align: top;\n",
       "    }\n",
       "\n",
       "    .dataframe thead th {\n",
       "        text-align: right;\n",
       "    }\n",
       "</style>\n",
       "<table border=\"1\" class=\"dataframe\">\n",
       "  <thead>\n",
       "    <tr style=\"text-align: right;\">\n",
       "      <th></th>\n",
       "      <th>testgroup</th>\n",
       "      <th>user_id</th>\n",
       "    </tr>\n",
       "  </thead>\n",
       "  <tbody>\n",
       "    <tr>\n",
       "      <th>0</th>\n",
       "      <td>a</td>\n",
       "      <td>1928</td>\n",
       "    </tr>\n",
       "    <tr>\n",
       "      <th>1</th>\n",
       "      <td>b</td>\n",
       "      <td>1805</td>\n",
       "    </tr>\n",
       "  </tbody>\n",
       "</table>\n",
       "</div>"
      ],
      "text/plain": [
       "  testgroup  user_id\n",
       "0         a     1928\n",
       "1         b     1805"
      ]
     },
     "execution_count": 66,
     "metadata": {},
     "output_type": "execute_result"
    }
   ],
   "source": [
    "df.query('revenue != 0').groupby('testgroup', as_index=False).agg({'user_id':'count'}) # Количество платящих пользователей в каждой группе"
   ]
  },
  {
   "cell_type": "code",
   "execution_count": 67,
   "metadata": {},
   "outputs": [
    {
     "data": {
      "text/html": [
       "<div>\n",
       "<style scoped>\n",
       "    .dataframe tbody tr th:only-of-type {\n",
       "        vertical-align: middle;\n",
       "    }\n",
       "\n",
       "    .dataframe tbody tr th {\n",
       "        vertical-align: top;\n",
       "    }\n",
       "\n",
       "    .dataframe thead th {\n",
       "        text-align: right;\n",
       "    }\n",
       "</style>\n",
       "<table border=\"1\" class=\"dataframe\">\n",
       "  <thead>\n",
       "    <tr style=\"text-align: right;\">\n",
       "      <th></th>\n",
       "      <th>testgroup</th>\n",
       "      <th>revenue</th>\n",
       "    </tr>\n",
       "  </thead>\n",
       "  <tbody>\n",
       "    <tr>\n",
       "      <th>0</th>\n",
       "      <td>a</td>\n",
       "      <td>2664.00</td>\n",
       "    </tr>\n",
       "    <tr>\n",
       "      <th>1</th>\n",
       "      <td>b</td>\n",
       "      <td>3003.66</td>\n",
       "    </tr>\n",
       "  </tbody>\n",
       "</table>\n",
       "</div>"
      ],
      "text/plain": [
       "  testgroup  revenue\n",
       "0         a  2664.00\n",
       "1         b  3003.66"
      ]
     },
     "execution_count": 67,
     "metadata": {},
     "output_type": "execute_result"
    }
   ],
   "source": [
    "df.query('revenue != 0').groupby('testgroup', as_index = False).revenue.mean().round(2) # Среднее значение выручки у платящих игроков"
   ]
  },
  {
   "cell_type": "markdown",
   "metadata": {},
   "source": [
    "Количество платящих игроков во второй группе меньше, однако, среднее значение выручки больше, также мы помним, что общее значение выручки во второй группе выше.\n",
    "\n",
    "Проверим распределение в данных группах и применим тесты для проверки статистической значимости."
   ]
  },
  {
   "cell_type": "code",
   "execution_count": 68,
   "metadata": {},
   "outputs": [
    {
     "data": {
      "text/plain": [
       "<seaborn.axisgrid.FacetGrid at 0x7fce81422a90>"
      ]
     },
     "execution_count": 68,
     "metadata": {},
     "output_type": "execute_result"
    },
    {
     "data": {
      "image/png": "[encoded data removed]",
      "text/plain": [
       "<Figure size 416x360 with 1 Axes>"
      ]
     },
     "metadata": {
      "needs_background": "light"
     },
     "output_type": "display_data"
    }
   ],
   "source": [
    "sns.displot(data = df.query('revenue != 0'), x = 'revenue', hue = 'testgroup')"
   ]
  },
  {
   "cell_type": "code",
   "execution_count": 69,
   "metadata": {
    "scrolled": true
   },
   "outputs": [
    {
     "data": {
      "text/plain": [
       "<seaborn.axisgrid.FacetGrid at 0x7fce812838d0>"
      ]
     },
     "execution_count": 69,
     "metadata": {},
     "output_type": "execute_result"
    },
    {
     "data": {
      "image/png": "[encoded data removed]",
      "text/plain": [
       "<Figure size 360x360 with 1 Axes>"
      ]
     },
     "metadata": {
      "needs_background": "light"
     },
     "output_type": "display_data"
    }
   ],
   "source": [
    "sns.displot(data = df.query(\"revenue != 0 and testgroup == 'a'\"), x = 'revenue')"
   ]
  },
  {
   "cell_type": "code",
   "execution_count": 70,
   "metadata": {},
   "outputs": [
    {
     "data": {
      "text/plain": [
       "<seaborn.axisgrid.FacetGrid at 0x7fce7fad0fd0>"
      ]
     },
     "execution_count": 70,
     "metadata": {},
     "output_type": "execute_result"
    },
    {
     "data": {
      "image/png": "[encoded data removed]",
      "text/plain": [
       "<Figure size 360x360 with 1 Axes>"
      ]
     },
     "metadata": {
      "needs_background": "light"
     },
     "output_type": "display_data"
    }
   ],
   "source": [
    "sns.displot(data = df.query(\"revenue != 0 and testgroup == 'b'\"), x = 'revenue')"
   ]
  },
  {
   "cell_type": "code",
   "execution_count": 71,
   "metadata": {},
   "outputs": [],
   "source": [
    "a_group_pay = df.query(\"testgroup == 'a' and revenue != 0\").revenue # Выручки по группам и платящим игрокам\n",
    "b_group_pay = df.query(\"testgroup == 'b' and revenue != 0\").revenue"
   ]
  },
  {
   "cell_type": "code",
   "execution_count": 72,
   "metadata": {},
   "outputs": [
    {
     "data": {
      "text/plain": [
       "ShapiroResult(statistic=0.2667924761772156, pvalue=0.0)"
      ]
     },
     "execution_count": 72,
     "metadata": {},
     "output_type": "execute_result"
    }
   ],
   "source": [
    "stats.shapiro(a_group_pay) # Проверка нормальности распределения"
   ]
  },
  {
   "cell_type": "code",
   "execution_count": 73,
   "metadata": {},
   "outputs": [
    {
     "data": {
      "text/plain": [
       "ShapiroResult(statistic=0.9583123922348022, pvalue=2.491345674771425e-22)"
      ]
     },
     "execution_count": 73,
     "metadata": {},
     "output_type": "execute_result"
    }
   ],
   "source": [
    "stats.shapiro(b_group_pay) # p-value > 0,05, значит не отклоняем нулевую гипотезу о нормальности распределения"
   ]
  },
  {
   "cell_type": "markdown",
   "metadata": {},
   "source": [
    "Тест Шапиро Уилка показал, что распределение данных группы \"a\" снова далеко от нормального, так как p-value < 0.05, отклоняем нулевую гипотезу о том, что распределение нормальное. Попробуем прологорифмировать значения, чтобы приблизить их к нормальному распределению."
   ]
  },
  {
   "cell_type": "code",
   "execution_count": 74,
   "metadata": {},
   "outputs": [
    {
     "data": {
      "text/plain": [
       "<seaborn.axisgrid.FacetGrid at 0x7fce8022cda0>"
      ]
     },
     "execution_count": 74,
     "metadata": {},
     "output_type": "execute_result"
    },
    {
     "data": {
      "image/png": "[encoded data removed]",
      "text/plain": [
       "<Figure size 360x360 with 1 Axes>"
      ]
     },
     "metadata": {
      "needs_background": "light"
     },
     "output_type": "display_data"
    }
   ],
   "source": [
    "sns.displot(np.log(a_group_pay))"
   ]
  },
  {
   "cell_type": "code",
   "execution_count": 75,
   "metadata": {},
   "outputs": [
    {
     "data": {
      "text/plain": [
       "<seaborn.axisgrid.FacetGrid at 0x7fce7fa06f28>"
      ]
     },
     "execution_count": 75,
     "metadata": {},
     "output_type": "execute_result"
    },
    {
     "data": {
      "image/png": "[encoded data removed]",
      "text/plain": [
       "<Figure size 360x360 with 1 Axes>"
      ]
     },
     "metadata": {
      "needs_background": "light"
     },
     "output_type": "display_data"
    }
   ],
   "source": [
    "sns.displot(np.log(b_group_pay))"
   ]
  },
  {
   "cell_type": "markdown",
   "metadata": {},
   "source": [
    "Логарифмирование не помогло нам приблизиться к желаемому результату (нормальному распределению), поэтому предлагаю воспользоваться методом bootstrap."
   ]
  },
  {
   "cell_type": "code",
   "execution_count": 76,
   "metadata": {},
   "outputs": [
    {
     "data": {
      "text/plain": [
       "BootstrapResult(confidence_interval=ConfidenceInterval(low=2261.590015560166, high=3086.698703319502), standard_error=209.03809846460047)"
      ]
     },
     "execution_count": 76,
     "metadata": {},
     "output_type": "execute_result"
    }
   ],
   "source": [
    "bootstrap((a_group_pay, ), np.mean, method = 'percentile')"
   ]
  },
  {
   "cell_type": "code",
   "execution_count": 77,
   "metadata": {},
   "outputs": [
    {
     "data": {
      "text/plain": [
       "BootstrapResult(confidence_interval=ConfidenceInterval(low=2976.7573407202212, high=3029.793767313019), standard_error=13.50678616138945)"
      ]
     },
     "execution_count": 77,
     "metadata": {},
     "output_type": "execute_result"
    }
   ],
   "source": [
    "bootstrap((b_group_pay, ), np.mean, method = 'percentile')"
   ]
  },
  {
   "cell_type": "markdown",
   "metadata": {},
   "source": [
    "Метод bootstrap сформировал доверительные интервалы для средних значений, и мы видим, что полученные границы пересекаются, что говорит о том, на основании данной метрики мы не можем сделать вывод о лучшем предложении."
   ]
  },
  {
   "cell_type": "markdown",
   "metadata": {},
   "source": [
    "#### CR\n",
    "Конверсия (conversion rate, CR) — отношение числа пользователей, которые выполнили какое-либо целевое действие (заплатили) к общему числу пользователей."
   ]
  },
  {
   "cell_type": "code",
   "execution_count": 78,
   "metadata": {},
   "outputs": [
    {
     "data": {
      "text/plain": [
       "0.0095"
      ]
     },
     "execution_count": 78,
     "metadata": {},
     "output_type": "execute_result"
    }
   ],
   "source": [
    "CR_a = np.round(df.query(\"testgroup == 'a' and revenue != 0\").user_id.count() / df.query(\"testgroup == 'a'\").user_id.count(), 4)\n",
    "CR_a"
   ]
  },
  {
   "cell_type": "code",
   "execution_count": 79,
   "metadata": {},
   "outputs": [
    {
     "data": {
      "text/plain": [
       "0.0089"
      ]
     },
     "execution_count": 79,
     "metadata": {},
     "output_type": "execute_result"
    }
   ],
   "source": [
    "CR_b = np.round(df.query(\"testgroup == 'b' and revenue != 0\").user_id.count() / df.query(\"testgroup == 'b'\").user_id.count(), 4)\n",
    "CR_b"
   ]
  },
  {
   "cell_type": "markdown",
   "metadata": {},
   "source": [
    "Мы видим, что конверсия в покупку второй группы \"b\" ниже, но давайте проверим, есть ли взаимосвязь между группами и платящими пользователями. Для это поменяем данные о выручке на категориальные переменные (0 - нет выручки или выручка равна нулю, 1 - есть выручка в любом размере, то есть пользователь платящий).\n",
    "На основе данных мы построим таблицу сопряженности и попробуем её проанализировать.\n",
    "В качестве метрики будем считать количество плательщиков."
   ]
  },
  {
   "cell_type": "code",
   "execution_count": 80,
   "metadata": {},
   "outputs": [
    {
     "data": {
      "text/html": [
       "<div>\n",
       "<style scoped>\n",
       "    .dataframe tbody tr th:only-of-type {\n",
       "        vertical-align: middle;\n",
       "    }\n",
       "\n",
       "    .dataframe tbody tr th {\n",
       "        vertical-align: top;\n",
       "    }\n",
       "\n",
       "    .dataframe thead th {\n",
       "        text-align: right;\n",
       "    }\n",
       "</style>\n",
       "<table border=\"1\" class=\"dataframe\">\n",
       "  <thead>\n",
       "    <tr style=\"text-align: right;\">\n",
       "      <th></th>\n",
       "      <th>user_id</th>\n",
       "      <th>revenue</th>\n",
       "      <th>testgroup</th>\n",
       "      <th>revenue_range</th>\n",
       "    </tr>\n",
       "  </thead>\n",
       "  <tbody>\n",
       "    <tr>\n",
       "      <th>0</th>\n",
       "      <td>1</td>\n",
       "      <td>0</td>\n",
       "      <td>b</td>\n",
       "      <td>0</td>\n",
       "    </tr>\n",
       "    <tr>\n",
       "      <th>1</th>\n",
       "      <td>2</td>\n",
       "      <td>0</td>\n",
       "      <td>a</td>\n",
       "      <td>0</td>\n",
       "    </tr>\n",
       "    <tr>\n",
       "      <th>2</th>\n",
       "      <td>3</td>\n",
       "      <td>0</td>\n",
       "      <td>a</td>\n",
       "      <td>0</td>\n",
       "    </tr>\n",
       "    <tr>\n",
       "      <th>3</th>\n",
       "      <td>4</td>\n",
       "      <td>0</td>\n",
       "      <td>b</td>\n",
       "      <td>0</td>\n",
       "    </tr>\n",
       "    <tr>\n",
       "      <th>4</th>\n",
       "      <td>5</td>\n",
       "      <td>0</td>\n",
       "      <td>b</td>\n",
       "      <td>0</td>\n",
       "    </tr>\n",
       "  </tbody>\n",
       "</table>\n",
       "</div>"
      ],
      "text/plain": [
       "   user_id  revenue testgroup  revenue_range\n",
       "0        1        0         b              0\n",
       "1        2        0         a              0\n",
       "2        3        0         a              0\n",
       "3        4        0         b              0\n",
       "4        5        0         b              0"
      ]
     },
     "execution_count": 80,
     "metadata": {},
     "output_type": "execute_result"
    }
   ],
   "source": [
    "df['revenue_range'] = np.where(df.revenue == 0, 0, 1) # Приведем данные по выручке в категориальный вид\n",
    "df.head()"
   ]
  },
  {
   "cell_type": "code",
   "execution_count": 81,
   "metadata": {},
   "outputs": [
    {
     "data": {
      "text/html": [
       "<div>\n",
       "<style scoped>\n",
       "    .dataframe tbody tr th:only-of-type {\n",
       "        vertical-align: middle;\n",
       "    }\n",
       "\n",
       "    .dataframe tbody tr th {\n",
       "        vertical-align: top;\n",
       "    }\n",
       "\n",
       "    .dataframe thead th {\n",
       "        text-align: right;\n",
       "    }\n",
       "</style>\n",
       "<table border=\"1\" class=\"dataframe\">\n",
       "  <thead>\n",
       "    <tr style=\"text-align: right;\">\n",
       "      <th>revenue_range</th>\n",
       "      <th>0</th>\n",
       "      <th>1</th>\n",
       "    </tr>\n",
       "    <tr>\n",
       "      <th>testgroup</th>\n",
       "      <th></th>\n",
       "      <th></th>\n",
       "    </tr>\n",
       "  </thead>\n",
       "  <tbody>\n",
       "    <tr>\n",
       "      <th>a</th>\n",
       "      <td>200175</td>\n",
       "      <td>1928</td>\n",
       "    </tr>\n",
       "    <tr>\n",
       "      <th>b</th>\n",
       "      <td>200862</td>\n",
       "      <td>1805</td>\n",
       "    </tr>\n",
       "  </tbody>\n",
       "</table>\n",
       "</div>"
      ],
      "text/plain": [
       "revenue_range       0     1\n",
       "testgroup                  \n",
       "a              200175  1928\n",
       "b              200862  1805"
      ]
     },
     "execution_count": 81,
     "metadata": {},
     "output_type": "execute_result"
    }
   ],
   "source": [
    "cr = pd.crosstab(df.testgroup, df.revenue_range) # Составим таблицу сопряженности\n",
    "cr"
   ]
  },
  {
   "cell_type": "code",
   "execution_count": 82,
   "metadata": {},
   "outputs": [
    {
     "data": {
      "text/plain": [
       "(4.374729521260405,\n",
       " 0.03647561892312613,\n",
       " 1,\n",
       " array([[200239.10075104,   1863.89924896],\n",
       "        [200797.89924896,   1869.10075104]]))"
      ]
     },
     "execution_count": 82,
     "metadata": {},
     "output_type": "execute_result"
    }
   ],
   "source": [
    "chi2_contingency(cr) # Проверим взаимосвязь между группами и платящими пользовятелями с помощью теста хи-квадрат"
   ]
  },
  {
   "cell_type": "markdown",
   "metadata": {},
   "source": [
    "Значение p-value меньше 5%, значит можем отвергнуть гипотезу Н0 о том, что взаимосвязи между группами и количеством платящих пользователей не существует."
   ]
  },
  {
   "cell_type": "markdown",
   "metadata": {},
   "source": [
    "### Итого:\n",
    "\n",
    "Результат исследования показал, что на основании мертрик ARPU и ARPPU мы не можем сделать вывод о лучшем предложении, так как анализ данных не показал статистически значимые различия."
   ]
  },
  {
   "cell_type": "markdown",
   "metadata": {},
   "source": [
    "# Задание 3"
   ]
  },
  {
   "cell_type": "markdown",
   "metadata": {},
   "source": [
    "В игре Plants & Gardens каждый месяц проводятся тематические события, ограниченные по времени. В них игроки могут получить уникальные предметы для сада и персонажей, дополнительные монеты или бонусы. Для получения награды требуется пройти ряд уровней за определенное время. С помощью каких метрик можно оценить результаты последнего прошедшего события?\n",
    "\n",
    "Предположим, в другом событии мы усложнили механику событий так, что при каждой неудачной попытке выполнения уровня игрок будет откатываться на несколько уровней назад. Изменится ли набор метрик оценки результата? Если да, то как?"
   ]
  },
  {
   "cell_type": "markdown",
   "metadata": {},
   "source": [
    "#### Вопрос 1: С помощью каких метрик можно оценить результаты последнего прошедшего события?"
   ]
  },
  {
   "cell_type": "markdown",
   "metadata": {},
   "source": [
    "1. Для оценки прошедшего события можно оценить аудиторию, принимавшую участие, как она менялась от события к событию:\n",
    "    * DAU - количество уникальных пользователей, которые зашли в приложение в течение суток или средняя дневная аудитория (если события имеют разную продолжительность);\n",
    "    * Доля новых пользователей — отношение числа новых пользователей за какой-то промежуток времени ко всем пользователям за этот же промежуток времени;\n",
    "    * Количество авторизаций (всего).\n",
    "\n",
    "Все данные метрики анализа аудитории можем сравнить с предыдущими мероприятиями."
   ]
  },
  {
   "cell_type": "markdown",
   "metadata": {},
   "source": [
    "2. Далее можем проанализировать сами сессии участников:\n",
    "    * Среднее время сессий в событии;\n",
    "    * Количество игроков, которым удалось пройти все уровни (абсолютная конверсия) и частично уровни (относительная конверсия). \n",
    "    На каком этапе воронки относительная конверсия самая высокая / самая низкая и почему.\n",
    "    * Конверсионное окно — время, за которое игрок переходит из одного шага воронки в другой (перемещается между уровнями)."
   ]
  },
  {
   "cell_type": "markdown",
   "metadata": {},
   "source": [
    "#### Вопрос 2: Предположим, в другом событии мы усложнили механику событий так, что при каждой неудачной попытке выполнения уровня игрок будет откатываться на несколько уровней назад. Изменится ли набор метрик оценки результата? Если да, то как?"
   ]
  },
  {
   "cell_type": "markdown",
   "metadata": {},
   "source": [
    "После проведения мероприятия с изменением правил игры, последовательности действий, будет интересно посмотреть число новых/отвалившихся/вернувшихся пользователей. Также будет полезно в далнейшем сравнить с результатами будущего сеанса, захотят ли игроки участвовать повторно (retention - удержание).\n",
    "\n",
    "Как и в предыдущем вопросе, необходимо проанализировать все перечисленные метрики, добавятся дополнительные показатели конверсии, так как увеличивается количество шагов. Казалось бы, время сессии должно увеличиться, так как время прохождения уровней увеличится, но это только наши ожидания, необходимо анализировать реальные данные и смотреть, есть ли статистически значимая взаимосвязь между этими событиями."
   ]
  }
 ],
 "metadata": {
  "kernelspec": {
   "display_name": "Python 3",
   "language": "python",
   "name": "python3"
  },
  "language_info": {
   "codemirror_mode": {
    "name": "ipython",
    "version": 3
   },
   "file_extension": ".py",
   "mimetype": "text/x-python",
   "name": "python",
   "nbconvert_exporter": "python",
   "pygments_lexer": "ipython3",
   "version": "3.7.3"
  }
 },
 "nbformat": 4,
 "nbformat_minor": 4
}
