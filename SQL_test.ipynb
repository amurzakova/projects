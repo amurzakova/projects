{
 "cells": [
  {
   "cell_type": "markdown",
   "metadata": {},
   "source": [
    "# Часть 1. SQL запросы:"
   ]
  },
  {
   "cell_type": "markdown",
   "metadata": {},
   "source": [
    "Запросы протестированы на тестовых таблицах (если нажать Run, выведутся таблицы в Results):"
   ]
  },
  {
   "cell_type": "markdown",
   "metadata": {},
   "source": [
    "https://www.db-fiddle.com/f/r9FdZhDADUaUKsoWAZJ64Q/4"
   ]
  },
  {
   "cell_type": "markdown",
   "metadata": {},
   "source": [
    "#### 1. Для каждой страны выведите самый часто покупаемый оффер за последний месяц и его содержимое. "
   ]
  },
  {
   "cell_type": "markdown",
   "metadata": {},
   "source": [
    "1) Объединила 3 таблицы и добавила фильтр, чтобы остались только транзакции за послений месяц (текущая дата минус интервал в один месяц);\n",
    "\n",
    "2) Далее с помощью оконной функции проранжировала offer_id (1 - наиболее часто встречающееся значение) в группах country (поздапрос rank_subquery);\n",
    "\n",
    "3) В рузультирующую таблицу вывела страны и наиболее часто покупаемые офферы в них. Для читаемости помимо содержимого оставила id оффера и его называние."
   ]
  },
  {
   "cell_type": "code",
   "execution_count": null,
   "metadata": {},
   "outputs": [],
   "source": [
    "SELECT \n",
    "    country, \n",
    "    offer_id, \n",
    "    name, \n",
    "    content\n",
    "FROM (\n",
    "    SELECT \n",
    "        country,\n",
    "        offer_id,\n",
    "        name,\n",
    "        content,\n",
    "        COUNT(offer_id) AS count_offer_id,\n",
    "        ROW_NUMBER() OVER (PARTITION BY country ORDER BY COUNT(offer_id) DESC) AS rang\n",
    "    FROM\n",
    "        (        \n",
    "        SELECT                                                         \n",
    "            a.date_index AS date_index,\n",
    "            a.player_id AS player_id,\n",
    "            a.offer_id AS offer_id,\n",
    "            a.price AS price,\n",
    "            b.level AS level,\n",
    "            b.country AS country,\n",
    "            b.date_install AS date_install,\n",
    "            c.name,\n",
    "            c.content\n",
    "        FROM TRANSACTIONS AS a\n",
    "        LEFT JOIN PLAYER_INFO AS b\n",
    "            ON a.player_id = b.player_id\n",
    "        LEFT JOIN OFFERS AS c\n",
    "            ON a.offer_id = c.offer_id\n",
    "        WHERE date_index BETWEEN date_trunc('day', NOW()) - interval '1 month' AND date_trunc('day', NOW())) AS subq\n",
    "    GROUP BY country, offer_id, name, content\n",
    "    ) AS rank_subquery\n",
    "WHERE rang = 1\n",
    "ORDER BY country"
   ]
  },
  {
   "cell_type": "markdown",
   "metadata": {},
   "source": [
    "#### 2. Для игроков разных уровневых групп (0-10, 10-20, 20+) выведите средний чек, минимальную и максимальную сумму транзакции."
   ]
  },
  {
   "cell_type": "markdown",
   "metadata": {},
   "source": [
    "1) Объединила 3 исходные таблицы;\n",
    "\n",
    "2) Добавила условие для дальнейшей группировки по интервалам уровней (немного переименовала группы, чтобы 10 и 20 уровни использовались уникально);\n",
    "\n",
    "3) Вывела данные после агрегации по группам уровней."
   ]
  },
  {
   "cell_type": "code",
   "execution_count": null,
   "metadata": {},
   "outputs": [],
   "source": [
    "SELECT\n",
    "    CASE\n",
    "    WHEN level >=0 AND level <10 THEN '0-9'\n",
    "    WHEN level >=10 AND level <20 THEN '10-19'\n",
    "    ELSE '20+'\n",
    "    END AS level_groups,\n",
    "    ROUND(AVG(price), 2) AS avg_transaction,\n",
    "    MIN(price) AS min_transaction,\n",
    "    MAX(price) AS max_transaction\n",
    "FROM\n",
    "    (\n",
    "    SELECT                                                             \n",
    "        a.date_index AS date_index,\n",
    "        a.player_id AS player_id,\n",
    "        a.offer_id AS offer_id,\n",
    "        a.price AS price,\n",
    "        b.level AS level,\n",
    "        b.country AS country,\n",
    "        b.date_install AS date_install,\n",
    "        c.name,\n",
    "        c.content\n",
    "    FROM TRANSACTIONS AS a\n",
    "    LEFT JOIN PLAYER_INFO AS b\n",
    "        ON a.player_id = b.player_id\n",
    "    LEFT JOIN OFFERS AS c\n",
    "        ON a.offer_id = c.offer_id\n",
    "    ) as subq\n",
    "GROUP BY level_groups\n",
    "ORDER BY level_groups"
   ]
  },
  {
   "cell_type": "markdown",
   "metadata": {},
   "source": [
    "#### 3. Для каждого игрока посчитайте LTV30 (сумма покупок за 30 дней с момента установки)."
   ]
  },
  {
   "cell_type": "code",
   "execution_count": null,
   "metadata": {},
   "outputs": [],
   "source": [
    "SELECT\n",
    "    player_id,\n",
    "    SUM(price) AS LTV30\n",
    "FROM\n",
    "    (                                                                   \n",
    "    SELECT\n",
    "        a.date_index AS date_index,\n",
    "        a.player_id AS player_id,\n",
    "        a.offer_id AS offer_id,\n",
    "        a.price AS price,\n",
    "        b.level AS level,\n",
    "        b.country AS country,\n",
    "        b.date_install AS date_install,\n",
    "        c.name,\n",
    "        c.content\n",
    "    FROM TRANSACTIONS AS a\n",
    "    LEFT JOIN PLAYER_INFO AS b\n",
    "        ON a.player_id = b.player_id\n",
    "    LEFT JOIN OFFERS AS c\n",
    "        ON a.offer_id = c.offer_id\n",
    "    ) AS subq\n",
    "WHERE date_index BETWEEN date_install AND (date_install + interval '30 days')\n",
    "-- WHERE date_index - date_install <= 30\n",
    "GROUP BY player_id\n",
    "ORDER BY player_id"
   ]
  },
  {
   "cell_type": "markdown",
   "metadata": {},
   "source": [
    "Также ниже запрос на расчет показателя LTV в среднем на пользователя. Отражает, сколько в среднем приносит пользователь денег в продукт до того, как покинет его. Рассчитывается как произведение среднего дохода на пользователя (ARPU) и средней продолжительности жизни клиента (30 - данные из задания)."
   ]
  },
  {
   "cell_type": "code",
   "execution_count": null,
   "metadata": {},
   "outputs": [],
   "source": [
    "SELECT\n",
    "    ROUND(SUM(price) / COUNT (DISTINCT player_id) * 30, 2) AS LTV\n",
    "FROM\n",
    "    (\n",
    "    SELECT\n",
    "        a.date_index AS date_index,\n",
    "        a.player_id AS player_id,\n",
    "        a.offer_id AS offer_id,\n",
    "        a.price AS price,\n",
    "        b.level AS level,\n",
    "        b.country AS country,\n",
    "        b.date_install AS date_install,\n",
    "        c.name,\n",
    "        c.content\n",
    "    FROM TRANSACTIONS AS a\n",
    "    LEFT JOIN PLAYER_INFO AS b\n",
    "        ON a.player_id = b.player_id\n",
    "    LEFT JOIN OFFERS AS c\n",
    "        ON a.offer_id = c.offer_id\n",
    "    ) as subq"
   ]
  }
 ],
 "metadata": {
  "kernelspec": {
   "display_name": "Python 3",
   "language": "python",
   "name": "python3"
  },
  "language_info": {
   "codemirror_mode": {
    "name": "ipython",
    "version": 3
   },
   "file_extension": ".py",
   "mimetype": "text/x-python",
   "name": "python",
   "nbconvert_exporter": "python",
   "pygments_lexer": "ipython3",
   "version": "3.7.3"
  }
 },
 "nbformat": 4,
 "nbformat_minor": 4
}
